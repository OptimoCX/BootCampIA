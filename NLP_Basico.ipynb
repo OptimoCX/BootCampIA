{
  "nbformat": 4,
  "nbformat_minor": 0,
  "metadata": {
    "colab": {
      "provenance": [],
      "include_colab_link": true
    },
    "kernelspec": {
      "name": "python3",
      "display_name": "Python 3"
    },
    "language_info": {
      "name": "python"
    }
  },
  "cells": [
    {
      "cell_type": "markdown",
      "metadata": {
        "id": "view-in-github",
        "colab_type": "text"
      },
      "source": [
        "<a href=\"https://colab.research.google.com/github/OptimoCX/BootCampIA/blob/main/NLP_Basico.ipynb\" target=\"_parent\"><img src=\"https://colab.research.google.com/assets/colab-badge.svg\" alt=\"Open In Colab\"/></a>"
      ]
    },
    {
      "cell_type": "markdown",
      "source": [
        "# Introducción al NLP (Procesamiento del Lenguaje Natural)\n",
        "\n",
        "El NLP es una rama de la inteligencia artificial que se ocupa de la interacción entre las computadoras y el lenguaje humano. En esta notebook exploraremos conceptos básicos de NLP como tokenización, stopwords, stemming, lematización y representación vectorial del texto.\n",
        "\n"
      ],
      "metadata": {
        "id": "_XPj8gZyFFzV"
      }
    },
    {
      "cell_type": "code",
      "source": [
        "# Instalamos las bibliotecas necesarias para procesamiento de lenguaje natural (NLP) y análisis de datos\n",
        "# - nltk: procesamiento básico de lenguaje\n",
        "# - spacy: procesamiento avanzado y eficiente de texto\n",
        "# - sklearn: herramientas de machine learning (clasificación, regresión, etc.)\n",
        "# - pandas: manipulación de datos estructurados (tablas)\n",
        "# - matplotlib y seaborn: visualización de datos\n",
        "!pip install nltk spacy sklearn pandas matplotlib seaborn --quiet\n",
        "# Descargamos recursos de NLTK:\n",
        "# - 'punkt': modelo de tokenización de oraciones y palabras\n",
        "# - 'stopwords': lista de palabras vacías comunes (como \"the\", \"is\", etc.)\n",
        "!python -m nltk.downloader punkt stopwords\n",
        "# Descargamos el modelo pequeño de spaCy para el idioma inglés\n",
        "# Este modelo incluye lematización, reconocimiento de entidades, y análisis sintáctico\n",
        "!python -m spacy download en_core_web_sm"
      ],
      "metadata": {
        "colab": {
          "base_uri": "https://localhost:8080/"
        },
        "id": "0dd5xvisS_ui",
        "outputId": "edfaf99d-ec6c-40fd-a910-f45c5783dfa8"
      },
      "execution_count": 1,
      "outputs": [
        {
          "output_type": "stream",
          "name": "stdout",
          "text": [
            "  \u001b[1;31merror\u001b[0m: \u001b[1msubprocess-exited-with-error\u001b[0m\n",
            "  \n",
            "  \u001b[31m×\u001b[0m \u001b[32mpython setup.py egg_info\u001b[0m did not run successfully.\n",
            "  \u001b[31m│\u001b[0m exit code: \u001b[1;36m1\u001b[0m\n",
            "  \u001b[31m╰─>\u001b[0m See above for output.\n",
            "  \n",
            "  \u001b[1;35mnote\u001b[0m: This error originates from a subprocess, and is likely not a problem with pip.\n",
            "  Preparing metadata (setup.py) ... \u001b[?25l\u001b[?25herror\n",
            "\u001b[1;31merror\u001b[0m: \u001b[1mmetadata-generation-failed\u001b[0m\n",
            "\n",
            "\u001b[31m×\u001b[0m Encountered error while generating package metadata.\n",
            "\u001b[31m╰─>\u001b[0m See above for output.\n",
            "\n",
            "\u001b[1;35mnote\u001b[0m: This is an issue with the package mentioned above, not pip.\n",
            "\u001b[1;36mhint\u001b[0m: See above for details.\n",
            "<frozen runpy>:128: RuntimeWarning: 'nltk.downloader' found in sys.modules after import of package 'nltk', but prior to execution of 'nltk.downloader'; this may result in unpredictable behaviour\n",
            "[nltk_data] Downloading package punkt to /root/nltk_data...\n",
            "[nltk_data]   Unzipping tokenizers/punkt.zip.\n",
            "[nltk_data] Downloading package stopwords to /root/nltk_data...\n",
            "[nltk_data]   Unzipping corpora/stopwords.zip.\n",
            "Collecting en-core-web-sm==3.8.0\n",
            "  Downloading https://github.com/explosion/spacy-models/releases/download/en_core_web_sm-3.8.0/en_core_web_sm-3.8.0-py3-none-any.whl (12.8 MB)\n",
            "\u001b[2K     \u001b[90m━━━━━━━━━━━━━━━━━━━━━━━━━━━━━━━━━━━━━━━━\u001b[0m \u001b[32m12.8/12.8 MB\u001b[0m \u001b[31m53.2 MB/s\u001b[0m eta \u001b[36m0:00:00\u001b[0m\n",
            "\u001b[?25h\u001b[38;5;2m✔ Download and installation successful\u001b[0m\n",
            "You can now load the package via spacy.load('en_core_web_sm')\n",
            "\u001b[38;5;3m⚠ Restart to reload dependencies\u001b[0m\n",
            "If you are in a Jupyter or Colab notebook, you may need to restart Python in\n",
            "order to load all the package's dependencies. You can do this by selecting the\n",
            "'Restart kernel' or 'Restart runtime' option.\n"
          ]
        }
      ]
    },
    {
      "cell_type": "markdown",
      "source": [
        "1. **Tokenización Básica**"
      ],
      "metadata": {
        "id": "OMsYsKh5FRZU"
      }
    },
    {
      "cell_type": "markdown",
      "source": [
        "Tokenizar es el proceso de dividir un texto en unidades más pequeñas llamadas tokens.\n",
        "\n",
        "**¿Por qué es importante tokenizar?**\n",
        "\n",
        "Tokenizar es un paso fundamental y previo para casi todas las tareas de NLP.\n",
        "\n",
        "Permite a los algoritmos entender y procesar el texto de manera estructurada.\n",
        "\n",
        "Facilita el análisis semántico y sintáctico.\n",
        "\n",
        "Ayuda a limpiar, normalizar y preparar datos textuales para modelos de Machine Learning o Deep Learning.\n",
        "\n",
        "Es necesaria para aplicar técnicas como: eliminación de stopwords, lematización, análisis de sentimientos, clasificación de textos, etc."
      ],
      "metadata": {
        "id": "WpoOgr66YXUc"
      }
    },
    {
      "cell_type": "code",
      "source": [
        "from nltk.tokenize import word_tokenize, sent_tokenize\n",
        "import nltk\n",
        "# Descargamos el recurso 'punkt', que contiene los modelos de tokenización de oraciones y palabras.\n",
        "# Esto es esencial para que funciones como sent_tokenize() y word_tokenize() funcionen correctamente.\n",
        "nltk.download('punkt_tab')"
      ],
      "metadata": {
        "colab": {
          "base_uri": "https://localhost:8080/"
        },
        "id": "UdTI-gC5QGHa",
        "outputId": "20f14125-f23c-4227-abd1-9248d60e717c"
      },
      "execution_count": null,
      "outputs": [
        {
          "output_type": "stream",
          "name": "stderr",
          "text": [
            "[nltk_data] Downloading package punkt_tab to /root/nltk_data...\n",
            "[nltk_data]   Package punkt_tab is already up-to-date!\n"
          ]
        },
        {
          "output_type": "execute_result",
          "data": {
            "text/plain": [
              "True"
            ]
          },
          "metadata": {},
          "execution_count": 15
        }
      ]
    },
    {
      "cell_type": "code",
      "execution_count": null,
      "metadata": {
        "colab": {
          "base_uri": "https://localhost:8080/"
        },
        "id": "3ZrsdrpbFCCO",
        "outputId": "833c6c82-8f72-4d0c-d44b-20260141239b"
      },
      "outputs": [
        {
          "output_type": "stream",
          "name": "stdout",
          "text": [
            "Oraciones: ['Hello!', 'Natural Language Processing is fun.', \"Let's learn how machines understand human language.\"]\n",
            "Palabras: ['Hello', '!', 'Natural', 'Language', 'Processing', 'is', 'fun', '.', 'Let', \"'s\", 'learn', 'how', 'machines', 'understand', 'human', 'language', '.']\n"
          ]
        }
      ],
      "source": [
        "# Definimos un texto de ejemplo sobre procesamiento de lenguaje natural\n",
        "text = \"Hello! Natural Language Processing is fun. Let's learn how machines understand human language.\"\n",
        "\n",
        "# Tokenizamos el texto en oraciones utilizando NLTK\n",
        "# La función sent_tokenize separa el texto en frases u oraciones completas\n",
        "sentences = sent_tokenize(text)\n",
        "print(\"Oraciones:\", sentences)\n",
        "\n",
        "# Tokenizamos el texto en palabras\n",
        "# La función word_tokenize separa el texto en palabras individuales, signos de puntuación incluidos\n",
        "tokens = word_tokenize(text)\n",
        "print(\"Palabras:\", tokens)"
      ]
    },
    {
      "cell_type": "markdown",
      "source": [
        "2. **Eliminacion de Palabras vacías:**"
      ],
      "metadata": {
        "id": "tDg18Wr1GBfi"
      }
    },
    {
      "cell_type": "markdown",
      "source": [
        "**¿Qué son las stopwords?**\n",
        "\n",
        "Las stopwords (o palabras vacías) son palabras muy comunes en un idioma que, por sí solas, no aportan mucho significado al análisis del texto.\n",
        "\n",
        "Ejemplos en inglés:\n",
        "\"is\", \"the\", \"and\", \"in\", \"of\", \"to\", \"a\"\n",
        "\n",
        "Ejemplos en español:\n",
        "\"el\", \"la\", \"de\", \"y\", \"en\", \"un\"\n",
        "\n",
        "**¿Por qué eliminarlas?**\n",
        "\n",
        "\n",
        "Son muy frecuentes, pero no ayudan a entender el contenido principal del texto.\n",
        "\n",
        "Su presencia puede afectar el rendimiento de modelos de machine learning al introducir ruido.\n",
        "\n",
        "Ayudan a reducir el tamaño del vocabulario, mejorando eficiencia y claridad."
      ],
      "metadata": {
        "id": "liiC38k3dlGy"
      }
    },
    {
      "cell_type": "code",
      "source": [
        "# Importamos las palabras vacías (stopwords) del módulo corpus de NLTK\n",
        "from nltk.corpus import stopwords\n",
        "\n",
        "# Obtenemos la lista de stopwords en inglés y la convertimos a un conjunto para mejorar el rendimiento en búsquedas\n",
        "stop_words = set(stopwords.words(\"english\"))\n",
        "\n",
        "# Recorremos los tokens y eliminamos aquellos que estén en la lista de stopwords\n",
        "# Convertimos cada palabra a minúscula para asegurar la comparación correcta\n",
        "nonstopwords = [word for word in tokens if word.lower() not in stop_words]\n",
        "stopwords = [word for word in tokens if word.lower() in stop_words]\n",
        "\n",
        "# Mostramos el resultado: los tokens después de eliminar las palabras vacías\n",
        "print(\"Tokens sin stopwords:\", nonstopwords)\n",
        "\n",
        "# Mostramos el resultado: los tokens después de eliminar las palabras vacías\n",
        "print(\"Tokens stopwords:\", stopwords)"
      ],
      "metadata": {
        "colab": {
          "base_uri": "https://localhost:8080/"
        },
        "id": "twkKU2i5GKnj",
        "outputId": "772ba252-ce85-498d-f9b6-8eeb3518c134"
      },
      "execution_count": null,
      "outputs": [
        {
          "output_type": "stream",
          "name": "stdout",
          "text": [
            "Tokens sin stopwords: ['Hello', '!', 'Natural', 'Language', 'Processing', 'fun', '.', 'Let', \"'s\", 'learn', 'machines', 'understand', 'human', 'language', '.']\n",
            "Tokens stopwords: ['is', 'how']\n"
          ]
        }
      ]
    },
    {
      "cell_type": "markdown",
      "source": [
        "3. Stemming (raíz gramatical)\n",
        "\n",
        "Definición:\n",
        "Es el proceso de reducir una palabra a su raíz o forma base mediante la eliminación de sufijos.\n",
        "No considera el contexto gramatical ni si la raíz resultante es una palabra válida.\n",
        "\n",
        "Ejemplos:\n",
        "\n",
        "\"running\" → \"run\"\n",
        "\n",
        "\"studies\" → \"studi\"\n",
        "\n",
        "\"easily\" → \"easili\"\n",
        "\n",
        "Características:\n",
        "\n",
        "Rápido y simple.\n",
        "\n",
        "Puede producir resultados incorrectos o no reales.\n",
        "\n",
        "Útil cuando se necesita velocidad más que precisión."
      ],
      "metadata": {
        "id": "zFWSm_VTh43A"
      }
    },
    {
      "cell_type": "markdown",
      "source": [
        "4. Lematización\n",
        "\n",
        "Definición:\n",
        "Es el proceso de reducir una palabra a su forma base o lema, utilizando un diccionario lingüístico (como WordNet) y considerando el significado y el contexto gramatical.\n",
        "\n",
        "Ejemplos:\n",
        "\n",
        "\"running\" → \"run\"\n",
        "\n",
        "\"better\" → \"good\"\n",
        "\n",
        "\"flies\" → \"fly\"\n",
        "\n",
        "Características:\n",
        "\n",
        "Más precisa que el stemming.\n",
        "\n",
        "Más lenta, ya que necesita analizar la estructura gramatical.\n",
        "\n",
        "Ideal cuando se necesita análisis semántico (entender el significado)."
      ],
      "metadata": {
        "id": "xOWMgKzPio12"
      }
    },
    {
      "cell_type": "code",
      "source": [
        "# Importa la librería NLTK, que es una colección de herramientas para procesamiento de lenguaje natural (NLP)\n",
        "import nltk\n",
        "\n",
        "# Descarga el recurso 'wordnet' desde NLTK.\n",
        "# WordNet es una base de datos léxica del inglés utilizada para la lematización y otras tareas semánticas.\n",
        "nltk.download('wordnet')"
      ],
      "metadata": {
        "colab": {
          "base_uri": "https://localhost:8080/"
        },
        "id": "KziGNQ89fdnD",
        "outputId": "d0a19a13-3433-474c-fc12-78c638e8275f"
      },
      "execution_count": null,
      "outputs": [
        {
          "output_type": "stream",
          "name": "stderr",
          "text": [
            "[nltk_data] Downloading package wordnet to /root/nltk_data...\n",
            "[nltk_data]   Package wordnet is already up-to-date!\n"
          ]
        },
        {
          "output_type": "execute_result",
          "data": {
            "text/plain": [
              "True"
            ]
          },
          "metadata": {},
          "execution_count": 33
        }
      ]
    },
    {
      "cell_type": "code",
      "source": [
        "nltk.download('omw-1.4')  # Mejora resultados con sinónimos y traducciones"
      ],
      "metadata": {
        "colab": {
          "base_uri": "https://localhost:8080/"
        },
        "id": "zCxIPqAQfhZC",
        "outputId": "a03e52c9-8013-4874-c064-355db93f9877"
      },
      "execution_count": null,
      "outputs": [
        {
          "output_type": "stream",
          "name": "stderr",
          "text": [
            "[nltk_data] Downloading package omw-1.4 to /root/nltk_data...\n",
            "[nltk_data]   Package omw-1.4 is already up-to-date!\n"
          ]
        },
        {
          "output_type": "execute_result",
          "data": {
            "text/plain": [
              "True"
            ]
          },
          "metadata": {},
          "execution_count": 34
        }
      ]
    },
    {
      "cell_type": "code",
      "source": [
        "# Importamos las clases necesarias desde la biblioteca NLTK\n",
        "from nltk.stem import PorterStemmer  # Para aplicar Stemming\n",
        "from nltk.stem import WordNetLemmatizer  # Para aplicar Lemmatization\n",
        "\n",
        "# Creamos una instancia del Stemmer de Porter\n",
        "stemmer = PorterStemmer()\n",
        "\n",
        "# Creamos una instancia del Lemmatizer basado en WordNet\n",
        "lemmatizer = WordNetLemmatizer()\n",
        "\n",
        "# Lista de palabras para aplicar stemming\n",
        "words_for_stemming = [\"running\", \"flies\", \"easily\", \"fairly\", \"studies\", \"studying\", \"happily\", \"faster\", \"caring\", \"national\"]\n",
        "\n",
        "print(\"Stemming:\")\n",
        "# Aplicamos el stemmer a cada palabra y mostramos el resultado\n",
        "for word in words_for_stemming:\n",
        "    print(f\"{word} → {stemmer.stem(word)}\")\n",
        "\n",
        "# Lista de palabras para aplicar lemmatization\n",
        "words_for_lemmatization = [\"flies\",\"caring\", \"faster\", \"national\", \"studies\", \"feet\"]\n",
        "\n",
        "print(\"\\nLemmatization:\")\n",
        "# Aplicamos el lematizador a cada palabra y mostramos el resultado\n",
        "for word in words_for_lemmatization:\n",
        "    print(f\"{word} → {lemmatizer.lemmatize(word)}\")\n"
      ],
      "metadata": {
        "colab": {
          "base_uri": "https://localhost:8080/"
        },
        "id": "vRS8NdLceyJK",
        "outputId": "b7c42e84-618a-431e-d110-93c7635287a3"
      },
      "execution_count": null,
      "outputs": [
        {
          "output_type": "stream",
          "name": "stdout",
          "text": [
            "Stemming:\n",
            "running → run\n",
            "flies → fli\n",
            "easily → easili\n",
            "fairly → fairli\n",
            "studies → studi\n",
            "studying → studi\n",
            "happily → happili\n",
            "faster → faster\n",
            "caring → care\n",
            "national → nation\n",
            "\n",
            "Lemmatization:\n",
            "flies → fly\n",
            "caring → caring\n",
            "faster → faster\n",
            "national → national\n",
            "studies → study\n",
            "feet → foot\n"
          ]
        }
      ]
    },
    {
      "cell_type": "markdown",
      "source": [
        "**Lematizacion en Español:**"
      ],
      "metadata": {
        "id": "ZRYRFZ31GhQ1"
      }
    },
    {
      "cell_type": "code",
      "source": [
        "#Esta instrucción descarga e instala el modelo preentrenado de spaCy para el idioma español, llamado es_core_news_sm.\n",
        "!python -m spacy download es_core_news_sm"
      ],
      "metadata": {
        "colab": {
          "base_uri": "https://localhost:8080/"
        },
        "id": "E6HlLR1qGov5",
        "outputId": "f931b212-7966-41ee-8b43-18f38514b855"
      },
      "execution_count": null,
      "outputs": [
        {
          "output_type": "stream",
          "name": "stdout",
          "text": [
            "Collecting es-core-news-sm==3.8.0\n",
            "  Using cached https://github.com/explosion/spacy-models/releases/download/es_core_news_sm-3.8.0/es_core_news_sm-3.8.0-py3-none-any.whl (12.9 MB)\n",
            "\u001b[38;5;2m✔ Download and installation successful\u001b[0m\n",
            "You can now load the package via spacy.load('es_core_news_sm')\n",
            "\u001b[38;5;3m⚠ Restart to reload dependencies\u001b[0m\n",
            "If you are in a Jupyter or Colab notebook, you may need to restart Python in\n",
            "order to load all the package's dependencies. You can do this by selecting the\n",
            "'Restart kernel' or 'Restart runtime' option.\n"
          ]
        }
      ]
    },
    {
      "cell_type": "markdown",
      "source": [
        "# Qué es es_core_news_sm?\n",
        "\n",
        "es_core_news_sm es un modelo de procesamiento de lenguaje natural (NLP) en español proporcionado por spaCy. Es una versión pequeña (\"sm\" de small) del modelo de idioma para español, que incluye:\n",
        "\n",
        "Tokenización: División del texto en palabras, signos de puntuación y otros elementos.\n",
        "Lematización: Reducción de las palabras a su forma base (ej. corriendo → correr).\n",
        "Etiquetado gramatical (POS tagging): Asignación de categorías gramaticales a cada palabra.\n",
        "Dependencias sintácticas: Relación entre las palabras en una oración.\n",
        "Reconocimiento de entidades nombradas (NER): Identificación de nombres propios, organizaciones, lugares, etc."
      ],
      "metadata": {
        "id": "EaF2_r221hmH"
      }
    },
    {
      "cell_type": "code",
      "source": [
        "import spacy\n",
        "\n",
        "# Cargar el modelo de español\n",
        "nlp = spacy.load(\"es_core_news_sm\")\n",
        "\n",
        "# Prueba con un texto\n",
        "doc = nlp(\"Los gatos están corriendo rápidamente.\")\n",
        "for token in doc:\n",
        "    print(f\"{token.text} -> {token.lemma_}\")"
      ],
      "metadata": {
        "colab": {
          "base_uri": "https://localhost:8080/"
        },
        "id": "ivhfKZYaHJ3d",
        "outputId": "c2febb9e-5b1f-49e0-c334-a122926415b8"
      },
      "execution_count": null,
      "outputs": [
        {
          "output_type": "stream",
          "name": "stdout",
          "text": [
            "Los -> el\n",
            "gatos -> gato\n",
            "están -> estar\n",
            "corriendo -> correr\n",
            "rápidamente -> rápidamente\n",
            ". -> .\n"
          ]
        }
      ]
    },
    {
      "cell_type": "code",
      "source": [
        "import spacy\n",
        "\n",
        "# Cargar el modelo de español\n",
        "nlp = spacy.load(\"es_core_news_sm\")\n",
        "\n",
        "# Prueba con un texto\n",
        "doc = nlp(\"Dice la ciencia que en el 2032 caera un meteorito sobre la tierra.\")\n",
        "for token in doc:\n",
        "    print(f\"{token.text} -> {token.lemma_}\")"
      ],
      "metadata": {
        "colab": {
          "base_uri": "https://localhost:8080/"
        },
        "id": "JhQmqzYP11th",
        "outputId": "2d427b2d-b278-4ee6-fd40-380f3a3e38d1"
      },
      "execution_count": null,
      "outputs": [
        {
          "output_type": "stream",
          "name": "stdout",
          "text": [
            "Dice -> decir\n",
            "la -> el\n",
            "ciencia -> ciencia\n",
            "que -> que\n",
            "en -> en\n",
            "el -> el\n",
            "2032 -> 2032\n",
            "caera -> caera\n",
            "un -> uno\n",
            "meteorito -> meteorito\n",
            "sobre -> sobre\n",
            "la -> el\n",
            "tierra -> tierra\n",
            ". -> .\n"
          ]
        }
      ]
    },
    {
      "cell_type": "markdown",
      "source": [
        "5. Representación de texto: De palabras a numeros"
      ],
      "metadata": {
        "id": "ji00tsbvIDrI"
      }
    },
    {
      "cell_type": "code",
      "source": [
        "#One - Hot Enconding\n",
        "from sklearn.preprocessing import OneHotEncoder\n",
        "import numpy as np\n",
        "encoder = OneHotEncoder()\n",
        "words = np.array([\"gato\", \"perro\", \"ratón\"]).reshape(-1, 1)\n",
        "print(encoder.fit_transform(words).toarray())"
      ],
      "metadata": {
        "colab": {
          "base_uri": "https://localhost:8080/"
        },
        "id": "zMPQSbM3ITqI",
        "outputId": "ab8f93f8-f34e-43f7-c7fb-04a85de4ffbd"
      },
      "execution_count": null,
      "outputs": [
        {
          "output_type": "stream",
          "name": "stdout",
          "text": [
            "[[1. 0. 0.]\n",
            " [0. 1. 0.]\n",
            " [0. 0. 1.]]\n"
          ]
        }
      ]
    },
    {
      "cell_type": "markdown",
      "source": [
        "**Bag of Words y TF-IDF**"
      ],
      "metadata": {
        "id": "L56PyGlqlsOi"
      }
    },
    {
      "cell_type": "markdown",
      "source": [
        "El TF-IDF (Term Frequency-Inverse Document Frequency) es una técnica que se usa para convertir texto en valores numéricos, midiendo la importancia de las palabras en un documento dentro de un conjunto de documentos o corpus. Es muy útil en tareas como clasificación de texto, búsqueda de información y análisis de texto.\n",
        "\n",
        "**¿Por qué es útil?** <P/>\n",
        "Palabras comunes como \"el\", \"de\", \"y\" (palabras vacías) tendrán un IDF bajo porque aparecen en casi todos los documentos.\n",
        "Palabras más específicas y raras tendrán un IDF alto, aumentando su importancia en ese documento."
      ],
      "metadata": {
        "id": "9im6N1rJI7m0"
      }
    },
    {
      "cell_type": "code",
      "source": [
        "import pandas as pd\n",
        "from sklearn.feature_extraction.text import CountVectorizer,TfidfVectorizer\n",
        "\n",
        "corpus = [\"Me gustan los gatos\", \"Los gatos son lindos\", \"Me gustan los perros\"]\n",
        "vectorizer = TfidfVectorizer()\n",
        "X = vectorizer.fit_transform(corpus)\n",
        "\n",
        "# Convertir a un DataFrame para mejor visualización\n",
        "df = pd.DataFrame(X.toarray(), columns=vectorizer.get_feature_names_out(), index=corpus)\n",
        "print(df)\n"
      ],
      "metadata": {
        "colab": {
          "base_uri": "https://localhost:8080/"
        },
        "id": "n9OLYe4BIhJN",
        "outputId": "85789901-ff56-4f0e-bdb3-b431812dfed8"
      },
      "execution_count": null,
      "outputs": [
        {
          "output_type": "stream",
          "name": "stdout",
          "text": [
            "                         gatos    gustan    lindos       los        me  \\\n",
            "Me gustan los gatos   0.526820  0.526820  0.000000  0.409123  0.526820   \n",
            "Los gatos son lindos  0.444514  0.000000  0.584483  0.345205  0.000000   \n",
            "Me gustan los perros  0.000000  0.480458  0.000000  0.373119  0.480458   \n",
            "\n",
            "                        perros       son  \n",
            "Me gustan los gatos   0.000000  0.000000  \n",
            "Los gatos son lindos  0.000000  0.584483  \n",
            "Me gustan los perros  0.631745  0.000000  \n"
          ]
        }
      ]
    },
    {
      "cell_type": "code",
      "source": [
        "# Imprimir los términos con sus valores TF-IDF por documento\n",
        "feature_names = vectorizer.get_feature_names_out()\n",
        "for i, doc in enumerate(corpus):\n",
        "    print(f\"\\nDocumento {i + 1}: {doc}\")\n",
        "    for word, score in zip(feature_names, X.toarray()[i]):\n",
        "        print(f\"   {word}: {score:.4f}\")"
      ],
      "metadata": {
        "colab": {
          "base_uri": "https://localhost:8080/"
        },
        "id": "My8W11ny2dLU",
        "outputId": "4f6cb23b-04bc-49b5-b354-a803945a6837"
      },
      "execution_count": null,
      "outputs": [
        {
          "output_type": "stream",
          "name": "stdout",
          "text": [
            "\n",
            "Documento 1: Me gustan los gatos\n",
            "   gatos: 0.5268\n",
            "   gustan: 0.5268\n",
            "   lindos: 0.0000\n",
            "   los: 0.4091\n",
            "   me: 0.5268\n",
            "   perros: 0.0000\n",
            "   son: 0.0000\n",
            "\n",
            "Documento 2: Los gatos son lindos\n",
            "   gatos: 0.4445\n",
            "   gustan: 0.0000\n",
            "   lindos: 0.5845\n",
            "   los: 0.3452\n",
            "   me: 0.0000\n",
            "   perros: 0.0000\n",
            "   son: 0.5845\n",
            "\n",
            "Documento 3: Me gustan los perros\n",
            "   gatos: 0.0000\n",
            "   gustan: 0.4805\n",
            "   lindos: 0.0000\n",
            "   los: 0.3731\n",
            "   me: 0.4805\n",
            "   perros: 0.6317\n",
            "   son: 0.0000\n"
          ]
        }
      ]
    },
    {
      "cell_type": "markdown",
      "source": [
        "Palabras finales elegidas por el algoritmo:\n",
        "['gatos' 'gustan' 'lindos' 'los' 'me' 'perros' 'son']"
      ],
      "metadata": {
        "id": "q-k5Tyhp25-Q"
      }
    },
    {
      "cell_type": "code",
      "source": [
        "# Lista de documentos (puedes personalizarla)\n",
        "documents = [\n",
        "    \"Machine learning is a subset of artificial intelligence.\",\n",
        "    \"Deep learning uses neural networks to learn patterns.\",\n",
        "    \"AI is transforming industries such as healthcare and finance.\",\n",
        "    \"Natural language processing helps machines understand text.\",\n",
        "    \"Large language models like GPT are trained on massive datasets.\"\n",
        "]\n",
        "\n",
        "# --- Bag of Words ---\n",
        "bow_vectorizer = CountVectorizer()\n",
        "X_bow = bow_vectorizer.fit_transform(documents)\n",
        "\n",
        "# Convertir a DataFrame para mejor visualización\n",
        "df_bow = pd.DataFrame(X_bow.toarray(), columns=bow_vectorizer.get_feature_names_out())\n",
        "print(\"Bag of Words:\")\n",
        "print(df_bow)\n",
        "\n",
        "# --- TF-IDF ---\n",
        "tfidf_vectorizer = TfidfVectorizer()\n",
        "X_tfidf = tfidf_vectorizer.fit_transform(documents)\n",
        "\n",
        "# Convertir a DataFrame\n",
        "df_tfidf = pd.DataFrame(X_tfidf.toarray(), columns=tfidf_vectorizer.get_feature_names_out())\n",
        "print(\"\\nTF-IDF:\")\n",
        "print(df_tfidf)\n",
        "\n"
      ],
      "metadata": {
        "colab": {
          "base_uri": "https://localhost:8080/"
        },
        "id": "ZW_0HZf6meTI",
        "outputId": "c1cdd0b9-c32a-4583-acdd-1a6216905f2a"
      },
      "execution_count": null,
      "outputs": [
        {
          "output_type": "stream",
          "name": "stdout",
          "text": [
            "Bag of Words:\n",
            "   ai  and  are  artificial  as  datasets  deep  finance  gpt  healthcare  \\\n",
            "0   0    0    0           1   0         0     0        0    0           0   \n",
            "1   0    0    0           0   0         0     1        0    0           0   \n",
            "2   1    1    0           0   1         0     0        1    0           1   \n",
            "3   0    0    0           0   0         0     0        0    0           0   \n",
            "4   0    0    1           0   0         1     0        0    1           0   \n",
            "\n",
            "   ...  patterns  processing  subset  such  text  to  trained  transforming  \\\n",
            "0  ...         0           0       1     0     0   0        0             0   \n",
            "1  ...         1           0       0     0     0   1        0             0   \n",
            "2  ...         0           0       0     1     0   0        0             1   \n",
            "3  ...         0           1       0     0     1   0        0             0   \n",
            "4  ...         0           0       0     0     0   0        1             0   \n",
            "\n",
            "   understand  uses  \n",
            "0           0     0  \n",
            "1           0     1  \n",
            "2           0     0  \n",
            "3           1     0  \n",
            "4           0     0  \n",
            "\n",
            "[5 rows x 38 columns]\n",
            "\n",
            "TF-IDF:\n",
            "         ai       and       are  artificial        as  datasets      deep  \\\n",
            "0  0.000000  0.000000  0.000000    0.398352  0.000000  0.000000  0.000000   \n",
            "1  0.000000  0.000000  0.000000    0.000000  0.000000  0.000000  0.361529   \n",
            "2  0.339992  0.339992  0.000000    0.000000  0.339992  0.000000  0.000000   \n",
            "3  0.000000  0.000000  0.000000    0.000000  0.000000  0.000000  0.000000   \n",
            "4  0.000000  0.000000  0.321896    0.000000  0.000000  0.321896  0.000000   \n",
            "\n",
            "    finance       gpt  healthcare  ...  patterns  processing    subset  \\\n",
            "0  0.000000  0.000000    0.000000  ...  0.000000    0.000000  0.398352   \n",
            "1  0.000000  0.000000    0.000000  ...  0.361529    0.000000  0.000000   \n",
            "2  0.339992  0.000000    0.339992  ...  0.000000    0.000000  0.000000   \n",
            "3  0.000000  0.000000    0.000000  ...  0.000000    0.387757  0.000000   \n",
            "4  0.000000  0.321896    0.000000  ...  0.000000    0.000000  0.000000   \n",
            "\n",
            "       such      text        to   trained  transforming  understand      uses  \n",
            "0  0.000000  0.000000  0.000000  0.000000      0.000000    0.000000  0.000000  \n",
            "1  0.000000  0.000000  0.361529  0.000000      0.000000    0.000000  0.361529  \n",
            "2  0.339992  0.000000  0.000000  0.000000      0.339992    0.000000  0.000000  \n",
            "3  0.000000  0.387757  0.000000  0.000000      0.000000    0.387757  0.000000  \n",
            "4  0.000000  0.000000  0.000000  0.321896      0.000000    0.000000  0.000000  \n",
            "\n",
            "[5 rows x 38 columns]\n"
          ]
        }
      ]
    },
    {
      "cell_type": "markdown",
      "source": [
        "**Exportar el resultado archivos a excel**"
      ],
      "metadata": {
        "id": "zgmHeVXYpxdk"
      }
    },
    {
      "cell_type": "code",
      "source": [
        "df_bow.to_csv(\"bag_of_words.csv\", index=False)\n",
        "df_tfidf.to_csv(\"tfidf.csv\", index=False)"
      ],
      "metadata": {
        "id": "TXQYwxwvot2S"
      },
      "execution_count": null,
      "outputs": []
    },
    {
      "cell_type": "markdown",
      "source": [
        "5. Visualización básica de frecuencia de palabras"
      ],
      "metadata": {
        "id": "BL12BQq4nfQT"
      }
    },
    {
      "cell_type": "code",
      "source": [
        "import matplotlib.pyplot as plt\n",
        "# Top 10 palabras más influyentes (por promedio TF-IDF)\n",
        "tfidf_mean = df_tfidf.mean().sort_values(ascending=False).head(10)\n",
        "\n",
        "# Graficar\n",
        "plt.figure(figsize=(10, 6))\n",
        "bars = plt.bar(tfidf_mean.index, tfidf_mean.values, color='coral')\n",
        "plt.title('Top 10 palabras más relevantes según TF-IDF')\n",
        "plt.ylabel('Promedio TF-IDF')\n",
        "plt.xticks(rotation=45)\n",
        "\n",
        "# Añadir valores sobre cada barra\n",
        "for bar in bars:\n",
        "    yval = bar.get_height()\n",
        "    plt.text(bar.get_x() + bar.get_width()/2, yval + 0.002, f\"{yval:.3f}\", ha='center', va='bottom', fontsize=9)\n",
        "\n",
        "plt.tight_layout()\n",
        "plt.show()\n",
        "\n"
      ],
      "metadata": {
        "colab": {
          "base_uri": "https://localhost:8080/",
          "height": 607
        },
        "id": "qy_VKmFEnfq2",
        "outputId": "93f7afdd-b659-4cfb-f69b-5e2786ff96ef"
      },
      "execution_count": null,
      "outputs": [
        {
          "output_type": "display_data",
          "data": {
            "text/plain": [
              "<Figure size 1000x600 with 1 Axes>"
            ],
            "image/png": "[encoded data removed]"
          },
          "metadata": {}
        }
      ]
    }
  ]
}