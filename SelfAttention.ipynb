{
  "nbformat": 4,
  "nbformat_minor": 0,
  "metadata": {
    "colab": {
      "provenance": [],
      "include_colab_link": true
    },
    "kernelspec": {
      "name": "python3",
      "display_name": "Python 3"
    },
    "language_info": {
      "name": "python"
    }
  },
  "cells": [
    {
      "cell_type": "markdown",
      "metadata": {
        "id": "view-in-github",
        "colab_type": "text"
      },
      "source": [
        "<a href=\"https://colab.research.google.com/github/OptimoCX/BootCampIA/blob/main/SelfAttention.ipynb\" target=\"_parent\"><img src=\"https://colab.research.google.com/assets/colab-badge.svg\" alt=\"Open In Colab\"/></a>"
      ]
    },
    {
      "cell_type": "markdown",
      "source": [
        "# Self Attention"
      ],
      "metadata": {
        "id": "HOpYjFr9kItY"
      }
    },
    {
      "cell_type": "code",
      "execution_count": null,
      "metadata": {
        "id": "4ldD0Hzoi-1o"
      },
      "outputs": [],
      "source": [
        "import numpy as np\n",
        "\n",
        "# Example input embeddings\n",
        "X = np.random.rand(10, 16)  # 10 elements, each is a 16-dimensional vector\n",
        "\n",
        "# Initialize weight matrices for queries, keys, and values\n",
        "W_Q = np.random.rand(16, 16)  # Dimensions chosen for example purposes\n",
        "W_K = np.random.rand(16, 16)\n",
        "W_V = np.random.rand(16, 16)\n",
        "\n",
        "# Compute queries, keys, and values\n",
        "Q = np.dot(X, W_Q)\n",
        "K = np.dot(X, W_K)\n",
        "V = np.dot(X, W_V)"
      ]
    },
    {
      "cell_type": "code",
      "source": [
        "dot_product = np.dot(Q, K.T) ## Using numpy's inbuilt functions"
      ],
      "metadata": {
        "id": "LjkTCLEpjIRr"
      },
      "execution_count": null,
      "outputs": []
    },
    {
      "cell_type": "code",
      "source": [
        "d_k = K.shape[-1] ## This will be 16 in this case\n",
        "\n",
        "## Basically dividing by square root of 16, i.e. 4 in this case\n",
        "scaled_dot_product = dot_product/(np.sqrt(d_k))"
      ],
      "metadata": {
        "id": "H9t1AcgwjLsH"
      },
      "execution_count": null,
      "outputs": []
    },
    {
      "cell_type": "code",
      "source": [
        "def softmax(z):\n",
        "    exp_scores = np.exp(z) # This is e^z where e is a math constant\n",
        "    probabilities = exp_scores / np.sum(exp_scores)\n",
        "    return probabilities\n",
        "\n",
        "# Example usage\n",
        "vector_array = [2.0, 1.0, 0.1]\n",
        "print(\"Softmax probabilities:\", softmax(vector_array))"
      ],
      "metadata": {
        "colab": {
          "base_uri": "https://localhost:8080/"
        },
        "id": "01upOUJIjOm0",
        "outputId": "e7b6789d-7cc8-492b-bb57-2015167abae2"
      },
      "execution_count": null,
      "outputs": [
        {
          "output_type": "stream",
          "name": "stdout",
          "text": [
            "Softmax probabilities: [0.65900114 0.24243297 0.09856589]\n"
          ]
        }
      ]
    },
    {
      "cell_type": "code",
      "source": [
        "attention_weights = softmax(scaled_dot_product)"
      ],
      "metadata": {
        "id": "f8SWMVszjglX"
      },
      "execution_count": null,
      "outputs": []
    },
    {
      "cell_type": "code",
      "source": [
        "output = np.dot(attention_weights, V)"
      ],
      "metadata": {
        "id": "B-gBAQotjhon"
      },
      "execution_count": null,
      "outputs": []
    },
    {
      "cell_type": "code",
      "source": [
        "import numpy as np\n",
        "\n",
        "def softmax(z):\n",
        "    exp_scores = np.exp(z - np.max(z, axis=-1, keepdims=True))  # Improve stability\n",
        "    return exp_scores / np.sum(exp_scores, axis=-1, keepdims=True)\n",
        "\n",
        "def scaled_dot_product_attention(X, W_Q, W_K, W_V):\n",
        "    # Compute queries, keys, and values\n",
        "    Q = np.dot(X, W_Q)\n",
        "    K = np.dot(X, W_K)\n",
        "    V = np.dot(X, W_V)\n",
        "\n",
        "    # Calculate dot products of Q and K^T\n",
        "    dot_product = np.dot(Q, K.T)\n",
        "\n",
        "    # Get the scaled dot product\n",
        "    d_k = K.shape[-1]\n",
        "    scaled_dot_product = dot_product / np.sqrt(d_k)\n",
        "\n",
        "    # Apply softmax to get attention weights\n",
        "    attention_weights = softmax(scaled_dot_product)\n",
        "\n",
        "    # Multiply by V to get the output\n",
        "    output = np.dot(attention_weights, V)\n",
        "\n",
        "    return output, attention_weights\n",
        "\n",
        "# Example usage\n",
        "# Define input embeddings and weight matrices\n",
        "X = np.random.rand(10, 16)  # 10 elements, each is a 16-dimensional vector\n",
        "W_Q = np.random.rand(16, 16)\n",
        "W_K = np.random.rand(16, 16)\n",
        "W_V = np.random.rand(16, 16)\n",
        "\n",
        "output, attention_weights = scaled_dot_product_attention(X, W_Q, W_K, W_V)\n",
        "print(\"Output (Aggregated Embeddings):\")\n",
        "print(output)\n",
        "print(\"\\nAttention Weights (Relevance Scores):\")\n",
        "print(attention_weights)"
      ],
      "metadata": {
        "colab": {
          "base_uri": "https://localhost:8080/"
        },
        "id": "HjWmrMTdjow7",
        "outputId": "af806e2f-8cc4-4475-d5cc-83961fae3844"
      },
      "execution_count": null,
      "outputs": [
        {
          "output_type": "stream",
          "name": "stdout",
          "text": [
            "Output (Aggregated Embeddings):\n",
            "[[3.3677096  3.6852172  4.79113694 4.82288165 5.13289339 3.94665865\n",
            "  4.46339435 4.70454487 4.40363619 4.65819836 4.85126591 4.69564496\n",
            "  4.55442404 3.56933867 3.72986483 5.64606118]\n",
            " [3.38371585 3.68209679 4.81492899 4.81293965 5.15684909 3.93228679\n",
            "  4.41763822 4.68938107 4.34992614 4.66398164 4.88760559 4.68324999\n",
            "  4.52799852 3.57133069 3.72651261 5.64460401]\n",
            " [3.37409348 3.68227263 4.80078617 4.81284881 5.14556413 3.93939691\n",
            "  4.43384787 4.70132666 4.36869097 4.65781379 4.87358213 4.68261455\n",
            "  4.53729891 3.56846171 3.72339583 5.63957328]\n",
            " [3.36475144 3.67277003 4.78299272 4.76740498 5.15425489 3.93213503\n",
            "  4.35714162 4.72709097 4.29663221 4.63202444 4.90614167 4.61601542\n",
            "  4.49886452 3.55549629 3.68310096 5.59344439]\n",
            " [3.37946226 3.68375036 4.80849185 4.81839287 5.14898156 3.9367978\n",
            "  4.43500181 4.69205843 4.37053563 4.66368594 4.87422742 4.69026357\n",
            "  4.53807824 3.57159065 3.72980124 5.64774487]\n",
            " [3.36606016 3.68505265 4.78843777 4.82221665 5.1314266  3.94742224\n",
            "  4.46413486 4.70603112 4.40637977 4.65699665 4.84881714 4.69418334\n",
            "  4.55556286 3.56890215 3.7287799  5.64500461]\n",
            " [3.37258872 3.68899624 4.79834954 4.83800249 5.13129839 3.94685802\n",
            "  4.48368481 4.69124737 4.4273227  4.66804966 4.83951584 4.71639353\n",
            "  4.56609016 3.57492946 3.74419571 5.66356976]\n",
            " [3.37857834 3.67971989 4.80711204 4.8032814  5.15562063 3.933386\n",
            "  4.40737279 4.69954802 4.33960969 4.65650166 4.89137915 4.66943555\n",
            "  4.52274025 3.56739217 3.71671627 5.63284147]\n",
            " [3.36129649 3.68467932 4.78113479 4.8191934  5.12689174 3.95017949\n",
            "  4.46630528 4.71346956 4.40932671 4.65252061 4.845189   4.68960915\n",
            "  4.55689666 3.56669558 3.72476173 5.63944492]\n",
            " [3.36413997 3.68502762 4.78513337 4.82052591 5.12956308 3.94828522\n",
            "  4.46358837 4.70897797 4.40710015 4.65496242 4.84724955 4.69131379\n",
            "  4.5556598  3.56800731 3.72679293 5.64238304]]\n",
            "\n",
            "Attention Weights (Relevance Scores):\n",
            "[[1.48727017e-03 4.87459432e-01 1.53605806e-03 2.31571662e-12\n",
            "  7.09740015e-02 2.08165890e-07 4.38296023e-01 6.08109859e-05\n",
            "  5.38165566e-05 1.32379610e-04]\n",
            " [6.12774347e-04 5.39503847e-01 1.11405178e-03 2.58653918e-13\n",
            "  6.33564617e-02 6.71624839e-08 3.95280394e-01 3.91824198e-05\n",
            "  1.98748351e-05 7.33465773e-05]\n",
            " [1.21063221e-03 5.12353039e-01 1.57274753e-03 2.27235524e-12\n",
            "  7.41905756e-02 2.40394179e-07 4.10412583e-01 7.12367312e-05\n",
            "  4.92056168e-05 1.39740298e-04]\n",
            " [7.06447015e-03 5.16553978e-01 9.52427663e-03 9.76748528e-09\n",
            "  1.17570792e-01 2.00997590e-05 3.45608782e-01 1.03798093e-03\n",
            "  7.89578884e-04 1.83003169e-03]\n",
            " [8.46563058e-04 5.23748147e-01 1.13531724e-03 9.17176201e-13\n",
            "  6.23945862e-02 1.13548734e-07 4.11705538e-01 4.50067999e-05\n",
            "  3.19479133e-05 9.27798124e-05]\n",
            " [1.81574563e-03 4.83351372e-01 2.58698805e-03 2.38930328e-11\n",
            "  7.21472407e-02 6.75168485e-07 4.39669503e-01 1.38934148e-04\n",
            "  9.16975131e-05 1.97843866e-04]\n",
            " [4.43082591e-04 4.91152380e-01 7.81794366e-04 5.31819030e-14\n",
            "  5.02240466e-02 2.41960340e-08 4.57333899e-01 2.03008832e-05\n",
            "  1.00435196e-05 3.44284947e-05]\n",
            " [1.54671180e-03 5.31570414e-01 2.53889653e-03 1.23538807e-11\n",
            "  7.76395568e-02 5.25196358e-07 3.86259503e-01 1.23862680e-04\n",
            "  7.78690412e-05 2.42660178e-04]\n",
            " [2.57372172e-03 4.71788709e-01 2.80135964e-03 2.05860973e-11\n",
            "  8.03297529e-02 7.87852099e-07 4.41908782e-01 1.41270190e-04\n",
            "  1.34146550e-04 3.21469315e-04]\n",
            " [2.49536183e-03 4.78964633e-01 2.98551124e-03 2.78993507e-11\n",
            "  7.52069773e-02 8.75367998e-07 4.39719451e-01 1.52717737e-04\n",
            "  1.35708700e-04 3.38763842e-04]]\n"
          ]
        }
      ]
    }
  ]
}