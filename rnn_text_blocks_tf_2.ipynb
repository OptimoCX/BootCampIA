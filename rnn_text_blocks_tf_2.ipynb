{
  "cells": [
    {
      "cell_type": "markdown",
      "metadata": {
        "id": "view-in-github",
        "colab_type": "text"
      },
      "source": [
        "<a href=\"https://colab.research.google.com/github/OptimoCX/BootCampIA/blob/main/rnn_text_blocks_tf_2.ipynb\" target=\"_parent\"><img src=\"https://colab.research.google.com/assets/colab-badge.svg\" alt=\"Open In Colab\"/></a>"
      ]
    },
    {
      "cell_type": "markdown",
      "id": "a864a9a3",
      "metadata": {
        "id": "a864a9a3"
      },
      "source": [
        "\n",
        "# Generación de **Texto** con RNN (TensorFlow/Keras)\n",
        "\n",
        "**Propósito:** ver, paso a paso y sin funciones auxiliares, cómo entrenar una RNN para predecir el siguiente **carácter** y luego **generar** texto.\n"
      ]
    },
    {
      "cell_type": "markdown",
      "id": "8e4a61e1",
      "metadata": {
        "id": "8e4a61e1"
      },
      "source": [
        "## 0) Setup"
      ]
    },
    {
      "cell_type": "code",
      "execution_count": null,
      "id": "2d5f4dd9",
      "metadata": {
        "id": "2d5f4dd9"
      },
      "outputs": [],
      "source": [
        "\n",
        "import numpy as np\n",
        "import tensorflow as tf\n",
        "import matplotlib.pyplot as plt\n",
        "\n",
        "np.random.seed(1)\n",
        "tf.random.set_seed(1)"
      ]
    },
    {
      "cell_type": "code",
      "source": [
        "np.random.seed(1)\n",
        "print(np.random.randint(0, 10, size=5))  # siempre el mismo resultado\n",
        "\n",
        "tf.random.set_seed(1)\n",
        "print(tf.random.uniform((3,), minval=0, maxval=1))  # mismo vector en cada ejecución\n"
      ],
      "metadata": {
        "colab": {
          "base_uri": "https://localhost:8080/"
        },
        "id": "opYaoPsE13UO",
        "outputId": "c5500b96-32c6-4887-dbb1-3cfa6dd9e27a"
      },
      "id": "opYaoPsE13UO",
      "execution_count": null,
      "outputs": [
        {
          "output_type": "stream",
          "name": "stdout",
          "text": [
            "[5 8 9 5 0]\n",
            "tf.Tensor([0.16513085 0.9014813  0.6309742 ], shape=(3,), dtype=float32)\n"
          ]
        }
      ]
    },
    {
      "cell_type": "markdown",
      "id": "16312850",
      "metadata": {
        "id": "16312850"
      },
      "source": [
        "\n",
        "## 1) Corpus y vocabulario (carácter ↔ id)\n",
        "- Convertimos texto a números porque las redes trabajan con tensores.\n"
      ]
    },
    {
      "cell_type": "code",
      "execution_count": null,
      "id": "b56d8fd9",
      "metadata": {
        "colab": {
          "base_uri": "https://localhost:8080/"
        },
        "id": "b56d8fd9",
        "outputId": "6a0279c4-cb53-43d8-d336-c6d5aa86ddf3"
      },
      "outputs": [
        {
          "output_type": "stream",
          "name": "stdout",
          "text": [
            "Vocabulario: 25\n",
            "Primeros 80 caracteres: Había una vez una red recurrente que aprendía patrones letra por letra. A veces \n",
            "Primeros 30 ids: [4, 6, 7, 24, 6, 0, 21, 14, 6, 0, 22, 10, 23, 0, 21, 14, 6, 0, 18, 10, 9, 0, 18, 10, 8, 21, 18, 18, 10, 14]\n"
          ]
        }
      ],
      "source": [
        "\n",
        "corpus = (\n",
        "    \"Había una vez una red recurrente que aprendía patrones letra por letra. \"\n",
        "    \"A veces repetía, a veces sorprendía. \"\n",
        "    \"La temperatura en el muestreo controla la creatividad.\"\n",
        ")\n",
        "\n",
        "chars = sorted(list(set(corpus))) # oma todos los caracteres únicos que aparecen en corpus (incluyendo letras, espacios, saltos de línea, signos, etc.).\n",
        "stoi  = {c:i for i,c in enumerate(chars)} # stoi (string to index) asigna un número único a cada carácter.\n",
        "itos  = {i:c for c,i in stoi.items()} # itos (index to string) hace la conversión inversa, para reconstruir texto a partir de IDs.\n",
        "vocab_size = len(stoi) #  cuántos caracteres únicos hay en el corpus.\n",
        "\n",
        "data_ids = np.array([stoi[c] for c in corpus], dtype=np.int32)\n",
        "\n",
        "print(\"Vocabulario:\", vocab_size)\n",
        "print(\"Primeros 80 caracteres:\", corpus[:80])\n",
        "print(\"Primeros 30 ids:\", data_ids[:30].tolist())\n"
      ]
    },
    {
      "cell_type": "markdown",
      "id": "bb5e669d",
      "metadata": {
        "id": "bb5e669d"
      },
      "source": [
        "\n",
        "## 2) Ventanas de entrenamiento (contexto fijo → próximo carácter)\n",
        "- `seq_len` es cuántos caracteres ve el modelo antes de predecir el siguiente.\n"
      ]
    },
    {
      "cell_type": "code",
      "execution_count": null,
      "id": "64bdff28",
      "metadata": {
        "colab": {
          "base_uri": "https://localhost:8080/"
        },
        "id": "64bdff28",
        "outputId": "7015c62f-b592-4cfc-8b6c-99d551c78e42"
      },
      "outputs": [
        {
          "output_type": "stream",
          "name": "stdout",
          "text": [
            "Formas → X: (123, 40) | Y: (123, 40)\n",
            "\n",
            "Ejemplo X: Había una vez una red recurrente que apr\n",
            "Ejemplo Y: abía una vez una red recurrente que apre\n"
          ]
        }
      ],
      "source": [
        "\n",
        "seq_len = 40 #  cada muestra (X) tendrá 40 caracteres (o IDs de caracteres) como contexto.\n",
        "# Esto determina cuánta “historia” previa verá el modelo para predecir lo siguiente.\n",
        "\n",
        "X_list, Y_list = [], []\n",
        "\n",
        "#X_list, guardará las secuencias de entrada (contexto).\n",
        "#Y_list ,  guardará las secuencias objetivo (lo que el modelo debe predecir).\n",
        "\n",
        "for i in range(len(data_ids) - seq_len):\n",
        "    X_list.append(data_ids[i:i+seq_len])         # contexto\n",
        "    Y_list.append(data_ids[i+1:i+seq_len+1])     # objetivo (shift +1)\n",
        "\n",
        "X = np.array(X_list, dtype=np.int32) # Convierte las listas a arrays NumPy para que sean procesables por TensorFlow.\n",
        "Y = np.array(Y_list, dtype=np.int32)\n",
        "\n",
        "print(\"Formas → X:\", X.shape, \"| Y:\", Y.shape)\n",
        "\n",
        "# Ejemplo\n",
        "ej_x = \"\".join([itos[int(i)] for i in X[0][:50]])\n",
        "ej_y = \"\".join([itos[int(i)] for i in Y[0][:50]])\n",
        "print(\"\\nEjemplo X:\", ej_x)\n",
        "print(\"Ejemplo Y:\", ej_y). # Sirve para verificar visualmente que Y está correctamente desplazada respecto a\n"
      ]
    },
    {
      "cell_type": "markdown",
      "source": [
        "# **TEACHER FORCING:**\n",
        "\n",
        "\n",
        "Esto es lo que en aprendizaje de modelos de lenguaje se llama teacher forcing: en cada paso le das al modelo la secuencia real hasta ese punto para que prediga el siguiente carácter."
      ],
      "metadata": {
        "id": "w84xwDA955Rv"
      },
      "id": "w84xwDA955Rv"
    },
    {
      "cell_type": "markdown",
      "id": "dbf1949e",
      "metadata": {
        "id": "dbf1949e"
      },
      "source": [
        "## 3) Dataset (train/val)"
      ]
    },
    {
      "cell_type": "code",
      "execution_count": null,
      "id": "b2e8e1a2",
      "metadata": {
        "id": "b2e8e1a2"
      },
      "outputs": [],
      "source": [
        "\n",
        "split = int(0.9*len(X)) # Toma el 90% de las muestras (X) para entrenamiento y el 10% restante para validación.\n",
        "batch_size = 64 # Batches más grandes pueden ser más rápidos, pero usan más memoria.\n",
        "\n",
        "ds_train = tf.data.Dataset.from_tensor_slices((X[:split], Y[:split])).shuffle(8000).batch(batch_size).prefetch(tf.data.AUTOTUNE) # Mezcla aleatoriamente las muestras para que el modelo no aprenda patrones artificiales por el orden del corpus.\n",
        "ds_val   = tf.data.Dataset.from_tensor_slices((X[split:], Y[split:])).batch(batch_size).prefetch(tf.data.AUTOTUNE) # AUTOTUNE deja que TensorFlow decida el número óptimo de batches que preparar por adelantado.\n"
      ]
    },
    {
      "cell_type": "markdown",
      "id": "085a1f8f",
      "metadata": {
        "id": "085a1f8f"
      },
      "source": [
        "\n",
        "## 4) Modelo RNN sencillo\n",
        "- Puedes cambiar `SimpleRNN` ↔ `GRU` ↔ `LSTM` y comparar.\n"
      ]
    },
    {
      "cell_type": "code",
      "execution_count": null,
      "id": "5c2c996c",
      "metadata": {
        "colab": {
          "base_uri": "https://localhost:8080/",
          "height": 259
        },
        "id": "5c2c996c",
        "outputId": "4320e0a7-1fab-4a2c-d717-b036912f337e"
      },
      "outputs": [
        {
          "output_type": "stream",
          "name": "stderr",
          "text": [
            "/usr/local/lib/python3.11/dist-packages/keras/src/layers/core/embedding.py:97: UserWarning: Argument `input_length` is deprecated. Just remove it.\n",
            "  warnings.warn(\n"
          ]
        },
        {
          "output_type": "display_data",
          "data": {
            "text/plain": [
              "\u001b[1mModel: \"sequential_4\"\u001b[0m\n"
            ],
            "text/html": [
              "<pre style=\"white-space:pre;overflow-x:auto;line-height:normal;font-family:Menlo,'DejaVu Sans Mono',consolas,'Courier New',monospace\"><span style=\"font-weight: bold\">Model: \"sequential_4\"</span>\n",
              "</pre>\n"
            ]
          },
          "metadata": {}
        },
        {
          "output_type": "display_data",
          "data": {
            "text/plain": [
              "┏━━━━━━━━━━━━━━━━━━━━━━━━━━━━━━━━━┳━━━━━━━━━━━━━━━━━━━━━━━━┳━━━━━━━━━━━━━━━┓\n",
              "┃\u001b[1m \u001b[0m\u001b[1mLayer (type)                   \u001b[0m\u001b[1m \u001b[0m┃\u001b[1m \u001b[0m\u001b[1mOutput Shape          \u001b[0m\u001b[1m \u001b[0m┃\u001b[1m \u001b[0m\u001b[1m      Param #\u001b[0m\u001b[1m \u001b[0m┃\n",
              "┡━━━━━━━━━━━━━━━━━━━━━━━━━━━━━━━━━╇━━━━━━━━━━━━━━━━━━━━━━━━╇━━━━━━━━━━━━━━━┩\n",
              "│ embedding_6 (\u001b[38;5;33mEmbedding\u001b[0m)         │ (\u001b[38;5;45mNone\u001b[0m, \u001b[38;5;34m40\u001b[0m, \u001b[38;5;34m32\u001b[0m)         │           \u001b[38;5;34m800\u001b[0m │\n",
              "├─────────────────────────────────┼────────────────────────┼───────────────┤\n",
              "│ lstm_4 (\u001b[38;5;33mLSTM\u001b[0m)                   │ (\u001b[38;5;45mNone\u001b[0m, \u001b[38;5;34m40\u001b[0m, \u001b[38;5;34m64\u001b[0m)         │        \u001b[38;5;34m24,832\u001b[0m │\n",
              "├─────────────────────────────────┼────────────────────────┼───────────────┤\n",
              "│ dense_4 (\u001b[38;5;33mDense\u001b[0m)                 │ (\u001b[38;5;45mNone\u001b[0m, \u001b[38;5;34m40\u001b[0m, \u001b[38;5;34m25\u001b[0m)         │         \u001b[38;5;34m1,625\u001b[0m │\n",
              "└─────────────────────────────────┴────────────────────────┴───────────────┘\n"
            ],
            "text/html": [
              "<pre style=\"white-space:pre;overflow-x:auto;line-height:normal;font-family:Menlo,'DejaVu Sans Mono',consolas,'Courier New',monospace\">┏━━━━━━━━━━━━━━━━━━━━━━━━━━━━━━━━━┳━━━━━━━━━━━━━━━━━━━━━━━━┳━━━━━━━━━━━━━━━┓\n",
              "┃<span style=\"font-weight: bold\"> Layer (type)                    </span>┃<span style=\"font-weight: bold\"> Output Shape           </span>┃<span style=\"font-weight: bold\">       Param # </span>┃\n",
              "┡━━━━━━━━━━━━━━━━━━━━━━━━━━━━━━━━━╇━━━━━━━━━━━━━━━━━━━━━━━━╇━━━━━━━━━━━━━━━┩\n",
              "│ embedding_6 (<span style=\"color: #0087ff; text-decoration-color: #0087ff\">Embedding</span>)         │ (<span style=\"color: #00d7ff; text-decoration-color: #00d7ff\">None</span>, <span style=\"color: #00af00; text-decoration-color: #00af00\">40</span>, <span style=\"color: #00af00; text-decoration-color: #00af00\">32</span>)         │           <span style=\"color: #00af00; text-decoration-color: #00af00\">800</span> │\n",
              "├─────────────────────────────────┼────────────────────────┼───────────────┤\n",
              "│ lstm_4 (<span style=\"color: #0087ff; text-decoration-color: #0087ff\">LSTM</span>)                   │ (<span style=\"color: #00d7ff; text-decoration-color: #00d7ff\">None</span>, <span style=\"color: #00af00; text-decoration-color: #00af00\">40</span>, <span style=\"color: #00af00; text-decoration-color: #00af00\">64</span>)         │        <span style=\"color: #00af00; text-decoration-color: #00af00\">24,832</span> │\n",
              "├─────────────────────────────────┼────────────────────────┼───────────────┤\n",
              "│ dense_4 (<span style=\"color: #0087ff; text-decoration-color: #0087ff\">Dense</span>)                 │ (<span style=\"color: #00d7ff; text-decoration-color: #00d7ff\">None</span>, <span style=\"color: #00af00; text-decoration-color: #00af00\">40</span>, <span style=\"color: #00af00; text-decoration-color: #00af00\">25</span>)         │         <span style=\"color: #00af00; text-decoration-color: #00af00\">1,625</span> │\n",
              "└─────────────────────────────────┴────────────────────────┴───────────────┘\n",
              "</pre>\n"
            ]
          },
          "metadata": {}
        },
        {
          "output_type": "display_data",
          "data": {
            "text/plain": [
              "\u001b[1m Total params: \u001b[0m\u001b[38;5;34m27,257\u001b[0m (106.47 KB)\n"
            ],
            "text/html": [
              "<pre style=\"white-space:pre;overflow-x:auto;line-height:normal;font-family:Menlo,'DejaVu Sans Mono',consolas,'Courier New',monospace\"><span style=\"font-weight: bold\"> Total params: </span><span style=\"color: #00af00; text-decoration-color: #00af00\">27,257</span> (106.47 KB)\n",
              "</pre>\n"
            ]
          },
          "metadata": {}
        },
        {
          "output_type": "display_data",
          "data": {
            "text/plain": [
              "\u001b[1m Trainable params: \u001b[0m\u001b[38;5;34m27,257\u001b[0m (106.47 KB)\n"
            ],
            "text/html": [
              "<pre style=\"white-space:pre;overflow-x:auto;line-height:normal;font-family:Menlo,'DejaVu Sans Mono',consolas,'Courier New',monospace\"><span style=\"font-weight: bold\"> Trainable params: </span><span style=\"color: #00af00; text-decoration-color: #00af00\">27,257</span> (106.47 KB)\n",
              "</pre>\n"
            ]
          },
          "metadata": {}
        },
        {
          "output_type": "display_data",
          "data": {
            "text/plain": [
              "\u001b[1m Non-trainable params: \u001b[0m\u001b[38;5;34m0\u001b[0m (0.00 B)\n"
            ],
            "text/html": [
              "<pre style=\"white-space:pre;overflow-x:auto;line-height:normal;font-family:Menlo,'DejaVu Sans Mono',consolas,'Courier New',monospace\"><span style=\"font-weight: bold\"> Non-trainable params: </span><span style=\"color: #00af00; text-decoration-color: #00af00\">0</span> (0.00 B)\n",
              "</pre>\n"
            ]
          },
          "metadata": {}
        }
      ],
      "source": [
        "\n",
        "model_type = \"lstm\"   # \"rnn\" | \"gru\" | \"lstm\". #definir qué arquitectura recurrente usar.\n",
        "\n",
        "RNN = {\n",
        "    \"rnn\":  tf.keras.layers.SimpleRNN,\n",
        "    \"gru\":  tf.keras.layers.GRU,\n",
        "    \"lstm\": tf.keras.layers.LSTM\n",
        "}[model_type]\n",
        "\n",
        "text_model = tf.keras.Sequential([\n",
        "     #Entrada: tensores de enteros (batch_size, seq_len) donde cada entero es el ID de un carácter (por ejemplo, 17 para \"a\", 5 para \" \").\n",
        "     #Salida: tensores (batch_size, seq_len, 32) donde cada entero se reemplaza por un vector de 32 valores flotantes que el modelo aprende durante el entrenamiento.\n",
        "    tf.keras.layers.Embedding(vocab_size, 32, input_length=seq_len),\n",
        "    RNN(64, return_sequences=True),\n",
        "    tf.keras.layers.Dense(vocab_size)   # logits por paso\n",
        "])\n",
        "\n",
        "text_model.compile(\n",
        "    optimizer=tf.keras.optimizers.Adam(2e-3),\n",
        "    loss=tf.keras.losses.SparseCategoricalCrossentropy(from_logits=True),\n",
        "    metrics=[tf.keras.metrics.SparseCategoricalAccuracy()]\n",
        ")\n",
        "text_model.build(input_shape=(None, seq_len))\n",
        "text_model.summary()"
      ]
    },
    {
      "cell_type": "markdown",
      "id": "b3d446de",
      "metadata": {
        "id": "b3d446de"
      },
      "source": [
        "## 5) Entrenamiento"
      ]
    },
    {
      "cell_type": "code",
      "execution_count": null,
      "id": "4d95e802",
      "metadata": {
        "colab": {
          "base_uri": "https://localhost:8080/",
          "height": 1000
        },
        "id": "4d95e802",
        "outputId": "c7718522-0c95-455b-bf43-af2bb599d3e0"
      },
      "outputs": [
        {
          "output_type": "stream",
          "name": "stdout",
          "text": [
            "Epoch 1/100\n",
            "\u001b[1m2/2\u001b[0m \u001b[32m━━━━━━━━━━━━━━━━━━━━\u001b[0m\u001b[37m\u001b[0m \u001b[1m0s\u001b[0m 36ms/step - loss: 0.4014 - sparse_categorical_accuracy: 0.9354 - val_loss: 1.8620 - val_sparse_categorical_accuracy: 0.5788\n",
            "Epoch 2/100\n",
            "\u001b[1m2/2\u001b[0m \u001b[32m━━━━━━━━━━━━━━━━━━━━\u001b[0m\u001b[37m\u001b[0m \u001b[1m0s\u001b[0m 55ms/step - loss: 0.3865 - sparse_categorical_accuracy: 0.9364 - val_loss: 1.8396 - val_sparse_categorical_accuracy: 0.5904\n",
            "Epoch 3/100\n",
            "\u001b[1m2/2\u001b[0m \u001b[32m━━━━━━━━━━━━━━━━━━━━\u001b[0m\u001b[37m\u001b[0m \u001b[1m0s\u001b[0m 37ms/step - loss: 0.3850 - sparse_categorical_accuracy: 0.9341 - val_loss: 1.8313 - val_sparse_categorical_accuracy: 0.5923\n",
            "Epoch 4/100\n",
            "\u001b[1m2/2\u001b[0m \u001b[32m━━━━━━━━━━━━━━━━━━━━\u001b[0m\u001b[37m\u001b[0m \u001b[1m0s\u001b[0m 38ms/step - loss: 0.3671 - sparse_categorical_accuracy: 0.9355 - val_loss: 1.8230 - val_sparse_categorical_accuracy: 0.5981\n",
            "Epoch 5/100\n",
            "\u001b[1m2/2\u001b[0m \u001b[32m━━━━━━━━━━━━━━━━━━━━\u001b[0m\u001b[37m\u001b[0m \u001b[1m0s\u001b[0m 38ms/step - loss: 0.3546 - sparse_categorical_accuracy: 0.9382 - val_loss: 1.8150 - val_sparse_categorical_accuracy: 0.6000\n",
            "Epoch 6/100\n",
            "\u001b[1m2/2\u001b[0m \u001b[32m━━━━━━━━━━━━━━━━━━━━\u001b[0m\u001b[37m\u001b[0m \u001b[1m0s\u001b[0m 37ms/step - loss: 0.3469 - sparse_categorical_accuracy: 0.9370 - val_loss: 1.7910 - val_sparse_categorical_accuracy: 0.6115\n",
            "Epoch 7/100\n",
            "\u001b[1m2/2\u001b[0m \u001b[32m━━━━━━━━━━━━━━━━━━━━\u001b[0m\u001b[37m\u001b[0m \u001b[1m0s\u001b[0m 39ms/step - loss: 0.3362 - sparse_categorical_accuracy: 0.9376 - val_loss: 1.7885 - val_sparse_categorical_accuracy: 0.6115\n",
            "Epoch 8/100\n",
            "\u001b[1m2/2\u001b[0m \u001b[32m━━━━━━━━━━━━━━━━━━━━\u001b[0m\u001b[37m\u001b[0m \u001b[1m0s\u001b[0m 37ms/step - loss: 0.3225 - sparse_categorical_accuracy: 0.9395 - val_loss: 1.7804 - val_sparse_categorical_accuracy: 0.6115\n",
            "Epoch 9/100\n",
            "\u001b[1m2/2\u001b[0m \u001b[32m━━━━━━━━━━━━━━━━━━━━\u001b[0m\u001b[37m\u001b[0m \u001b[1m0s\u001b[0m 38ms/step - loss: 0.3126 - sparse_categorical_accuracy: 0.9406 - val_loss: 1.7721 - val_sparse_categorical_accuracy: 0.6173\n",
            "Epoch 10/100\n",
            "\u001b[1m2/2\u001b[0m \u001b[32m━━━━━━━━━━━━━━━━━━━━\u001b[0m\u001b[37m\u001b[0m \u001b[1m0s\u001b[0m 37ms/step - loss: 0.3061 - sparse_categorical_accuracy: 0.9429 - val_loss: 1.7548 - val_sparse_categorical_accuracy: 0.6192\n",
            "Epoch 11/100\n",
            "\u001b[1m2/2\u001b[0m \u001b[32m━━━━━━━━━━━━━━━━━━━━\u001b[0m\u001b[37m\u001b[0m \u001b[1m0s\u001b[0m 38ms/step - loss: 0.2923 - sparse_categorical_accuracy: 0.9461 - val_loss: 1.7590 - val_sparse_categorical_accuracy: 0.6173\n",
            "Epoch 12/100\n",
            "\u001b[1m2/2\u001b[0m \u001b[32m━━━━━━━━━━━━━━━━━━━━\u001b[0m\u001b[37m\u001b[0m \u001b[1m0s\u001b[0m 36ms/step - loss: 0.2875 - sparse_categorical_accuracy: 0.9492 - val_loss: 1.7330 - val_sparse_categorical_accuracy: 0.6250\n",
            "Epoch 13/100\n",
            "\u001b[1m2/2\u001b[0m \u001b[32m━━━━━━━━━━━━━━━━━━━━\u001b[0m\u001b[37m\u001b[0m \u001b[1m0s\u001b[0m 36ms/step - loss: 0.2785 - sparse_categorical_accuracy: 0.9515 - val_loss: 1.7244 - val_sparse_categorical_accuracy: 0.6308\n",
            "Epoch 14/100\n",
            "\u001b[1m2/2\u001b[0m \u001b[32m━━━━━━━━━━━━━━━━━━━━\u001b[0m\u001b[37m\u001b[0m \u001b[1m0s\u001b[0m 38ms/step - loss: 0.2753 - sparse_categorical_accuracy: 0.9526 - val_loss: 1.7155 - val_sparse_categorical_accuracy: 0.6365\n",
            "Epoch 15/100\n",
            "\u001b[1m2/2\u001b[0m \u001b[32m━━━━━━━━━━━━━━━━━━━━\u001b[0m\u001b[37m\u001b[0m \u001b[1m0s\u001b[0m 36ms/step - loss: 0.2669 - sparse_categorical_accuracy: 0.9568 - val_loss: 1.7004 - val_sparse_categorical_accuracy: 0.6365\n",
            "Epoch 16/100\n",
            "\u001b[1m2/2\u001b[0m \u001b[32m━━━━━━━━━━━━━━━━━━━━\u001b[0m\u001b[37m\u001b[0m \u001b[1m0s\u001b[0m 35ms/step - loss: 0.2618 - sparse_categorical_accuracy: 0.9585 - val_loss: 1.6989 - val_sparse_categorical_accuracy: 0.6404\n",
            "Epoch 17/100\n",
            "\u001b[1m2/2\u001b[0m \u001b[32m━━━━━━━━━━━━━━━━━━━━\u001b[0m\u001b[37m\u001b[0m \u001b[1m0s\u001b[0m 36ms/step - loss: 0.2511 - sparse_categorical_accuracy: 0.9589 - val_loss: 1.6829 - val_sparse_categorical_accuracy: 0.6500\n",
            "Epoch 18/100\n",
            "\u001b[1m2/2\u001b[0m \u001b[32m━━━━━━━━━━━━━━━━━━━━\u001b[0m\u001b[37m\u001b[0m \u001b[1m0s\u001b[0m 37ms/step - loss: 0.2493 - sparse_categorical_accuracy: 0.9587 - val_loss: 1.6723 - val_sparse_categorical_accuracy: 0.6500\n",
            "Epoch 19/100\n",
            "\u001b[1m2/2\u001b[0m \u001b[32m━━━━━━━━━━━━━━━━━━━━\u001b[0m\u001b[37m\u001b[0m \u001b[1m0s\u001b[0m 37ms/step - loss: 0.2449 - sparse_categorical_accuracy: 0.9599 - val_loss: 1.6771 - val_sparse_categorical_accuracy: 0.6423\n",
            "Epoch 20/100\n",
            "\u001b[1m2/2\u001b[0m \u001b[32m━━━━━━━━━━━━━━━━━━━━\u001b[0m\u001b[37m\u001b[0m \u001b[1m0s\u001b[0m 36ms/step - loss: 0.2317 - sparse_categorical_accuracy: 0.9609 - val_loss: 1.6606 - val_sparse_categorical_accuracy: 0.6596\n",
            "Epoch 21/100\n",
            "\u001b[1m2/2\u001b[0m \u001b[32m━━━━━━━━━━━━━━━━━━━━\u001b[0m\u001b[37m\u001b[0m \u001b[1m0s\u001b[0m 38ms/step - loss: 0.2285 - sparse_categorical_accuracy: 0.9605 - val_loss: 1.6493 - val_sparse_categorical_accuracy: 0.6615\n",
            "Epoch 22/100\n",
            "\u001b[1m2/2\u001b[0m \u001b[32m━━━━━━━━━━━━━━━━━━━━\u001b[0m\u001b[37m\u001b[0m \u001b[1m0s\u001b[0m 55ms/step - loss: 0.2252 - sparse_categorical_accuracy: 0.9613 - val_loss: 1.6423 - val_sparse_categorical_accuracy: 0.6615\n",
            "Epoch 23/100\n",
            "\u001b[1m2/2\u001b[0m \u001b[32m━━━━━━━━━━━━━━━━━━━━\u001b[0m\u001b[37m\u001b[0m \u001b[1m0s\u001b[0m 36ms/step - loss: 0.2249 - sparse_categorical_accuracy: 0.9598 - val_loss: 1.6239 - val_sparse_categorical_accuracy: 0.6692\n",
            "Epoch 24/100\n",
            "\u001b[1m2/2\u001b[0m \u001b[32m━━━━━━━━━━━━━━━━━━━━\u001b[0m\u001b[37m\u001b[0m \u001b[1m0s\u001b[0m 35ms/step - loss: 0.2143 - sparse_categorical_accuracy: 0.9619 - val_loss: 1.6268 - val_sparse_categorical_accuracy: 0.6673\n",
            "Epoch 25/100\n",
            "\u001b[1m2/2\u001b[0m \u001b[32m━━━━━━━━━━━━━━━━━━━━\u001b[0m\u001b[37m\u001b[0m \u001b[1m0s\u001b[0m 36ms/step - loss: 0.2124 - sparse_categorical_accuracy: 0.9617 - val_loss: 1.6184 - val_sparse_categorical_accuracy: 0.6673\n",
            "Epoch 26/100\n",
            "\u001b[1m2/2\u001b[0m \u001b[32m━━━━━━━━━━━━━━━━━━━━\u001b[0m\u001b[37m\u001b[0m \u001b[1m0s\u001b[0m 36ms/step - loss: 0.2070 - sparse_categorical_accuracy: 0.9638 - val_loss: 1.5894 - val_sparse_categorical_accuracy: 0.6788\n",
            "Epoch 27/100\n",
            "\u001b[1m2/2\u001b[0m \u001b[32m━━━━━━━━━━━━━━━━━━━━\u001b[0m\u001b[37m\u001b[0m \u001b[1m0s\u001b[0m 38ms/step - loss: 0.2046 - sparse_categorical_accuracy: 0.9631 - val_loss: 1.5899 - val_sparse_categorical_accuracy: 0.6712\n",
            "Epoch 28/100\n",
            "\u001b[1m2/2\u001b[0m \u001b[32m━━━━━━━━━━━━━━━━━━━━\u001b[0m\u001b[37m\u001b[0m \u001b[1m0s\u001b[0m 53ms/step - loss: 0.1971 - sparse_categorical_accuracy: 0.9645 - val_loss: 1.5775 - val_sparse_categorical_accuracy: 0.6731\n",
            "Epoch 29/100\n",
            "\u001b[1m2/2\u001b[0m \u001b[32m━━━━━━━━━━━━━━━━━━━━\u001b[0m\u001b[37m\u001b[0m \u001b[1m0s\u001b[0m 40ms/step - loss: 0.1928 - sparse_categorical_accuracy: 0.9646 - val_loss: 1.5602 - val_sparse_categorical_accuracy: 0.6827\n",
            "Epoch 30/100\n",
            "\u001b[1m2/2\u001b[0m \u001b[32m━━━━━━━━━━━━━━━━━━━━\u001b[0m\u001b[37m\u001b[0m \u001b[1m0s\u001b[0m 36ms/step - loss: 0.1874 - sparse_categorical_accuracy: 0.9654 - val_loss: 1.5621 - val_sparse_categorical_accuracy: 0.6808\n",
            "Epoch 31/100\n",
            "\u001b[1m2/2\u001b[0m \u001b[32m━━━━━━━━━━━━━━━━━━━━\u001b[0m\u001b[37m\u001b[0m \u001b[1m0s\u001b[0m 36ms/step - loss: 0.1852 - sparse_categorical_accuracy: 0.9651 - val_loss: 1.5459 - val_sparse_categorical_accuracy: 0.6827\n",
            "Epoch 32/100\n",
            "\u001b[1m2/2\u001b[0m \u001b[32m━━━━━━━━━━━━━━━━━━━━\u001b[0m\u001b[37m\u001b[0m \u001b[1m0s\u001b[0m 37ms/step - loss: 0.1818 - sparse_categorical_accuracy: 0.9655 - val_loss: 1.5345 - val_sparse_categorical_accuracy: 0.6865\n",
            "Epoch 33/100\n",
            "\u001b[1m2/2\u001b[0m \u001b[32m━━━━━━━━━━━━━━━━━━━━\u001b[0m\u001b[37m\u001b[0m \u001b[1m0s\u001b[0m 39ms/step - loss: 0.1836 - sparse_categorical_accuracy: 0.9646 - val_loss: 1.5297 - val_sparse_categorical_accuracy: 0.7000\n",
            "Epoch 34/100\n",
            "\u001b[1m2/2\u001b[0m \u001b[32m━━━━━━━━━━━━━━━━━━━━\u001b[0m\u001b[37m\u001b[0m \u001b[1m0s\u001b[0m 36ms/step - loss: 0.1744 - sparse_categorical_accuracy: 0.9679 - val_loss: 1.5152 - val_sparse_categorical_accuracy: 0.6962\n",
            "Epoch 35/100\n",
            "\u001b[1m2/2\u001b[0m \u001b[32m━━━━━━━━━━━━━━━━━━━━\u001b[0m\u001b[37m\u001b[0m \u001b[1m0s\u001b[0m 37ms/step - loss: 0.1742 - sparse_categorical_accuracy: 0.9679 - val_loss: 1.5075 - val_sparse_categorical_accuracy: 0.6923\n",
            "Epoch 36/100\n",
            "\u001b[1m2/2\u001b[0m \u001b[32m━━━━━━━━━━━━━━━━━━━━\u001b[0m\u001b[37m\u001b[0m \u001b[1m0s\u001b[0m 37ms/step - loss: 0.1686 - sparse_categorical_accuracy: 0.9686 - val_loss: 1.5106 - val_sparse_categorical_accuracy: 0.6942\n",
            "Epoch 37/100\n",
            "\u001b[1m2/2\u001b[0m \u001b[32m━━━━━━━━━━━━━━━━━━━━\u001b[0m\u001b[37m\u001b[0m \u001b[1m0s\u001b[0m 37ms/step - loss: 0.1681 - sparse_categorical_accuracy: 0.9685 - val_loss: 1.5013 - val_sparse_categorical_accuracy: 0.6981\n",
            "Epoch 38/100\n",
            "\u001b[1m2/2\u001b[0m \u001b[32m━━━━━━━━━━━━━━━━━━━━\u001b[0m\u001b[37m\u001b[0m \u001b[1m0s\u001b[0m 39ms/step - loss: 0.1660 - sparse_categorical_accuracy: 0.9683 - val_loss: 1.4934 - val_sparse_categorical_accuracy: 0.7135\n",
            "Epoch 39/100\n",
            "\u001b[1m2/2\u001b[0m \u001b[32m━━━━━━━━━━━━━━━━━━━━\u001b[0m\u001b[37m\u001b[0m \u001b[1m0s\u001b[0m 37ms/step - loss: 0.1606 - sparse_categorical_accuracy: 0.9692 - val_loss: 1.4940 - val_sparse_categorical_accuracy: 0.7096\n",
            "Epoch 40/100\n",
            "\u001b[1m2/2\u001b[0m \u001b[32m━━━━━━━━━━━━━━━━━━━━\u001b[0m\u001b[37m\u001b[0m \u001b[1m0s\u001b[0m 38ms/step - loss: 0.1576 - sparse_categorical_accuracy: 0.9705 - val_loss: 1.4854 - val_sparse_categorical_accuracy: 0.7192\n",
            "Epoch 41/100\n",
            "\u001b[1m2/2\u001b[0m \u001b[32m━━━━━━━━━━━━━━━━━━━━\u001b[0m\u001b[37m\u001b[0m \u001b[1m0s\u001b[0m 37ms/step - loss: 0.1571 - sparse_categorical_accuracy: 0.9700 - val_loss: 1.4821 - val_sparse_categorical_accuracy: 0.7173\n",
            "Epoch 42/100\n",
            "\u001b[1m2/2\u001b[0m \u001b[32m━━━━━━━━━━━━━━━━━━━━\u001b[0m\u001b[37m\u001b[0m \u001b[1m0s\u001b[0m 37ms/step - loss: 0.1534 - sparse_categorical_accuracy: 0.9706 - val_loss: 1.4843 - val_sparse_categorical_accuracy: 0.7250\n",
            "Epoch 43/100\n",
            "\u001b[1m2/2\u001b[0m \u001b[32m━━━━━━━━━━━━━━━━━━━━\u001b[0m\u001b[37m\u001b[0m \u001b[1m0s\u001b[0m 36ms/step - loss: 0.1518 - sparse_categorical_accuracy: 0.9705 - val_loss: 1.4766 - val_sparse_categorical_accuracy: 0.7269\n",
            "Epoch 44/100\n",
            "\u001b[1m2/2\u001b[0m \u001b[32m━━━━━━━━━━━━━━━━━━━━\u001b[0m\u001b[37m\u001b[0m \u001b[1m0s\u001b[0m 36ms/step - loss: 0.1504 - sparse_categorical_accuracy: 0.9701 - val_loss: 1.4792 - val_sparse_categorical_accuracy: 0.7269\n",
            "Epoch 45/100\n",
            "\u001b[1m2/2\u001b[0m \u001b[32m━━━━━━━━━━━━━━━━━━━━\u001b[0m\u001b[37m\u001b[0m \u001b[1m0s\u001b[0m 39ms/step - loss: 0.1497 - sparse_categorical_accuracy: 0.9708 - val_loss: 1.4846 - val_sparse_categorical_accuracy: 0.7192\n",
            "Epoch 46/100\n",
            "\u001b[1m2/2\u001b[0m \u001b[32m━━━━━━━━━━━━━━━━━━━━\u001b[0m\u001b[37m\u001b[0m \u001b[1m0s\u001b[0m 37ms/step - loss: 0.1483 - sparse_categorical_accuracy: 0.9704 - val_loss: 1.4763 - val_sparse_categorical_accuracy: 0.7308\n",
            "Epoch 47/100\n",
            "\u001b[1m2/2\u001b[0m \u001b[32m━━━━━━━━━━━━━━━━━━━━\u001b[0m\u001b[37m\u001b[0m \u001b[1m0s\u001b[0m 35ms/step - loss: 0.1448 - sparse_categorical_accuracy: 0.9703 - val_loss: 1.4731 - val_sparse_categorical_accuracy: 0.7327\n",
            "Epoch 48/100\n",
            "\u001b[1m2/2\u001b[0m \u001b[32m━━━━━━━━━━━━━━━━━━━━\u001b[0m\u001b[37m\u001b[0m \u001b[1m0s\u001b[0m 37ms/step - loss: 0.1393 - sparse_categorical_accuracy: 0.9713 - val_loss: 1.4769 - val_sparse_categorical_accuracy: 0.7308\n",
            "Epoch 49/100\n",
            "\u001b[1m2/2\u001b[0m \u001b[32m━━━━━━━━━━━━━━━━━━━━\u001b[0m\u001b[37m\u001b[0m \u001b[1m0s\u001b[0m 37ms/step - loss: 0.1394 - sparse_categorical_accuracy: 0.9712 - val_loss: 1.4801 - val_sparse_categorical_accuracy: 0.7308\n",
            "Epoch 50/100\n",
            "\u001b[1m2/2\u001b[0m \u001b[32m━━━━━━━━━━━━━━━━━━━━\u001b[0m\u001b[37m\u001b[0m \u001b[1m0s\u001b[0m 51ms/step - loss: 0.1399 - sparse_categorical_accuracy: 0.9714 - val_loss: 1.4740 - val_sparse_categorical_accuracy: 0.7269\n",
            "Epoch 51/100\n",
            "\u001b[1m2/2\u001b[0m \u001b[32m━━━━━━━━━━━━━━━━━━━━\u001b[0m\u001b[37m\u001b[0m \u001b[1m0s\u001b[0m 37ms/step - loss: 0.1385 - sparse_categorical_accuracy: 0.9709 - val_loss: 1.4702 - val_sparse_categorical_accuracy: 0.7288\n",
            "Epoch 52/100\n",
            "\u001b[1m2/2\u001b[0m \u001b[32m━━━━━━━━━━━━━━━━━━━━\u001b[0m\u001b[37m\u001b[0m \u001b[1m0s\u001b[0m 38ms/step - loss: 0.1358 - sparse_categorical_accuracy: 0.9713 - val_loss: 1.4782 - val_sparse_categorical_accuracy: 0.7308\n",
            "Epoch 53/100\n",
            "\u001b[1m2/2\u001b[0m \u001b[32m━━━━━━━━━━━━━━━━━━━━\u001b[0m\u001b[37m\u001b[0m \u001b[1m0s\u001b[0m 37ms/step - loss: 0.1348 - sparse_categorical_accuracy: 0.9720 - val_loss: 1.4872 - val_sparse_categorical_accuracy: 0.7269\n",
            "Epoch 54/100\n",
            "\u001b[1m2/2\u001b[0m \u001b[32m━━━━━━━━━━━━━━━━━━━━\u001b[0m\u001b[37m\u001b[0m \u001b[1m0s\u001b[0m 40ms/step - loss: 0.1321 - sparse_categorical_accuracy: 0.9723 - val_loss: 1.4818 - val_sparse_categorical_accuracy: 0.7288\n",
            "Epoch 55/100\n",
            "\u001b[1m2/2\u001b[0m \u001b[32m━━━━━━━━━━━━━━━━━━━━\u001b[0m\u001b[37m\u001b[0m \u001b[1m0s\u001b[0m 37ms/step - loss: 0.1302 - sparse_categorical_accuracy: 0.9719 - val_loss: 1.4807 - val_sparse_categorical_accuracy: 0.7269\n",
            "Epoch 56/100\n",
            "\u001b[1m2/2\u001b[0m \u001b[32m━━━━━━━━━━━━━━━━━━━━\u001b[0m\u001b[37m\u001b[0m \u001b[1m0s\u001b[0m 37ms/step - loss: 0.1293 - sparse_categorical_accuracy: 0.9724 - val_loss: 1.4850 - val_sparse_categorical_accuracy: 0.7269\n",
            "Epoch 57/100\n",
            "\u001b[1m2/2\u001b[0m \u001b[32m━━━━━━━━━━━━━━━━━━━━\u001b[0m\u001b[37m\u001b[0m \u001b[1m0s\u001b[0m 37ms/step - loss: 0.1282 - sparse_categorical_accuracy: 0.9723 - val_loss: 1.4844 - val_sparse_categorical_accuracy: 0.7250\n",
            "Epoch 58/100\n",
            "\u001b[1m2/2\u001b[0m \u001b[32m━━━━━━━━━━━━━━━━━━━━\u001b[0m\u001b[37m\u001b[0m \u001b[1m0s\u001b[0m 41ms/step - loss: 0.1251 - sparse_categorical_accuracy: 0.9726 - val_loss: 1.4872 - val_sparse_categorical_accuracy: 0.7231\n",
            "Epoch 59/100\n",
            "\u001b[1m2/2\u001b[0m \u001b[32m━━━━━━━━━━━━━━━━━━━━\u001b[0m\u001b[37m\u001b[0m \u001b[1m0s\u001b[0m 38ms/step - loss: 0.1261 - sparse_categorical_accuracy: 0.9722 - val_loss: 1.4919 - val_sparse_categorical_accuracy: 0.7250\n",
            "Epoch 60/100\n",
            "\u001b[1m2/2\u001b[0m \u001b[32m━━━━━━━━━━━━━━━━━━━━\u001b[0m\u001b[37m\u001b[0m \u001b[1m0s\u001b[0m 40ms/step - loss: 0.1238 - sparse_categorical_accuracy: 0.9722 - val_loss: 1.4859 - val_sparse_categorical_accuracy: 0.7269\n",
            "Epoch 61/100\n",
            "\u001b[1m2/2\u001b[0m \u001b[32m━━━━━━━━━━━━━━━━━━━━\u001b[0m\u001b[37m\u001b[0m \u001b[1m0s\u001b[0m 38ms/step - loss: 0.1223 - sparse_categorical_accuracy: 0.9732 - val_loss: 1.4828 - val_sparse_categorical_accuracy: 0.7288\n",
            "Epoch 62/100\n",
            "\u001b[1m2/2\u001b[0m \u001b[32m━━━━━━━━━━━━━━━━━━━━\u001b[0m\u001b[37m\u001b[0m \u001b[1m0s\u001b[0m 37ms/step - loss: 0.1214 - sparse_categorical_accuracy: 0.9731 - val_loss: 1.4948 - val_sparse_categorical_accuracy: 0.7308\n",
            "Epoch 63/100\n",
            "\u001b[1m2/2\u001b[0m \u001b[32m━━━━━━━━━━━━━━━━━━━━\u001b[0m\u001b[37m\u001b[0m \u001b[1m0s\u001b[0m 37ms/step - loss: 0.1165 - sparse_categorical_accuracy: 0.9739 - val_loss: 1.5020 - val_sparse_categorical_accuracy: 0.7288\n",
            "Epoch 64/100\n",
            "\u001b[1m2/2\u001b[0m \u001b[32m━━━━━━━━━━━━━━━━━━━━\u001b[0m\u001b[37m\u001b[0m \u001b[1m0s\u001b[0m 40ms/step - loss: 0.1192 - sparse_categorical_accuracy: 0.9722 - val_loss: 1.5018 - val_sparse_categorical_accuracy: 0.7308\n",
            "Epoch 65/100\n",
            "\u001b[1m2/2\u001b[0m \u001b[32m━━━━━━━━━━━━━━━━━━━━\u001b[0m\u001b[37m\u001b[0m \u001b[1m0s\u001b[0m 38ms/step - loss: 0.1172 - sparse_categorical_accuracy: 0.9728 - val_loss: 1.4906 - val_sparse_categorical_accuracy: 0.7308\n",
            "Epoch 66/100\n",
            "\u001b[1m2/2\u001b[0m \u001b[32m━━━━━━━━━━━━━━━━━━━━\u001b[0m\u001b[37m\u001b[0m \u001b[1m0s\u001b[0m 38ms/step - loss: 0.1142 - sparse_categorical_accuracy: 0.9740 - val_loss: 1.4998 - val_sparse_categorical_accuracy: 0.7308\n",
            "Epoch 67/100\n",
            "\u001b[1m2/2\u001b[0m \u001b[32m━━━━━━━━━━━━━━━━━━━━\u001b[0m\u001b[37m\u001b[0m \u001b[1m0s\u001b[0m 39ms/step - loss: 0.1147 - sparse_categorical_accuracy: 0.9741 - val_loss: 1.5144 - val_sparse_categorical_accuracy: 0.7269\n",
            "Epoch 68/100\n",
            "\u001b[1m2/2\u001b[0m \u001b[32m━━━━━━━━━━━━━━━━━━━━\u001b[0m\u001b[37m\u001b[0m \u001b[1m0s\u001b[0m 37ms/step - loss: 0.1128 - sparse_categorical_accuracy: 0.9736 - val_loss: 1.5115 - val_sparse_categorical_accuracy: 0.7288\n",
            "Epoch 69/100\n",
            "\u001b[1m2/2\u001b[0m \u001b[32m━━━━━━━━━━━━━━━━━━━━\u001b[0m\u001b[37m\u001b[0m \u001b[1m0s\u001b[0m 37ms/step - loss: 0.1114 - sparse_categorical_accuracy: 0.9737 - val_loss: 1.4990 - val_sparse_categorical_accuracy: 0.7327\n",
            "Epoch 70/100\n",
            "\u001b[1m2/2\u001b[0m \u001b[32m━━━━━━━━━━━━━━━━━━━━\u001b[0m\u001b[37m\u001b[0m \u001b[1m0s\u001b[0m 37ms/step - loss: 0.1112 - sparse_categorical_accuracy: 0.9736 - val_loss: 1.4982 - val_sparse_categorical_accuracy: 0.7327\n",
            "Epoch 71/100\n",
            "\u001b[1m2/2\u001b[0m \u001b[32m━━━━━━━━━━━━━━━━━━━━\u001b[0m\u001b[37m\u001b[0m \u001b[1m0s\u001b[0m 37ms/step - loss: 0.1086 - sparse_categorical_accuracy: 0.9741 - val_loss: 1.5157 - val_sparse_categorical_accuracy: 0.7269\n",
            "Epoch 72/100\n",
            "\u001b[1m2/2\u001b[0m \u001b[32m━━━━━━━━━━━━━━━━━━━━\u001b[0m\u001b[37m\u001b[0m \u001b[1m0s\u001b[0m 37ms/step - loss: 0.1094 - sparse_categorical_accuracy: 0.9741 - val_loss: 1.5136 - val_sparse_categorical_accuracy: 0.7308\n",
            "Epoch 73/100\n",
            "\u001b[1m2/2\u001b[0m \u001b[32m━━━━━━━━━━━━━━━━━━━━\u001b[0m\u001b[37m\u001b[0m \u001b[1m0s\u001b[0m 38ms/step - loss: 0.1070 - sparse_categorical_accuracy: 0.9740 - val_loss: 1.5075 - val_sparse_categorical_accuracy: 0.7327\n",
            "Epoch 74/100\n",
            "\u001b[1m2/2\u001b[0m \u001b[32m━━━━━━━━━━━━━━━━━━━━\u001b[0m\u001b[37m\u001b[0m \u001b[1m0s\u001b[0m 39ms/step - loss: 0.1083 - sparse_categorical_accuracy: 0.9737 - val_loss: 1.5148 - val_sparse_categorical_accuracy: 0.7308\n",
            "Epoch 75/100\n",
            "\u001b[1m2/2\u001b[0m \u001b[32m━━━━━━━━━━━━━━━━━━━━\u001b[0m\u001b[37m\u001b[0m \u001b[1m0s\u001b[0m 38ms/step - loss: 0.1072 - sparse_categorical_accuracy: 0.9738 - val_loss: 1.5254 - val_sparse_categorical_accuracy: 0.7308\n",
            "Epoch 76/100\n",
            "\u001b[1m2/2\u001b[0m \u001b[32m━━━━━━━━━━━━━━━━━━━━\u001b[0m\u001b[37m\u001b[0m \u001b[1m0s\u001b[0m 61ms/step - loss: 0.1063 - sparse_categorical_accuracy: 0.9737 - val_loss: 1.5221 - val_sparse_categorical_accuracy: 0.7308\n",
            "Epoch 77/100\n",
            "\u001b[1m2/2\u001b[0m \u001b[32m━━━━━━━━━━━━━━━━━━━━\u001b[0m\u001b[37m\u001b[0m \u001b[1m0s\u001b[0m 37ms/step - loss: 0.1057 - sparse_categorical_accuracy: 0.9737 - val_loss: 1.5116 - val_sparse_categorical_accuracy: 0.7346\n",
            "Epoch 78/100\n",
            "\u001b[1m2/2\u001b[0m \u001b[32m━━━━━━━━━━━━━━━━━━━━\u001b[0m\u001b[37m\u001b[0m \u001b[1m0s\u001b[0m 39ms/step - loss: 0.1036 - sparse_categorical_accuracy: 0.9746 - val_loss: 1.5093 - val_sparse_categorical_accuracy: 0.7365\n",
            "Epoch 79/100\n",
            "\u001b[1m2/2\u001b[0m \u001b[32m━━━━━━━━━━━━━━━━━━━━\u001b[0m\u001b[37m\u001b[0m \u001b[1m0s\u001b[0m 38ms/step - loss: 0.1009 - sparse_categorical_accuracy: 0.9753 - val_loss: 1.5229 - val_sparse_categorical_accuracy: 0.7346\n",
            "Epoch 80/100\n",
            "\u001b[1m2/2\u001b[0m \u001b[32m━━━━━━━━━━━━━━━━━━━━\u001b[0m\u001b[37m\u001b[0m \u001b[1m0s\u001b[0m 40ms/step - loss: 0.1024 - sparse_categorical_accuracy: 0.9747 - val_loss: 1.5324 - val_sparse_categorical_accuracy: 0.7288\n",
            "Epoch 81/100\n",
            "\u001b[1m2/2\u001b[0m \u001b[32m━━━━━━━━━━━━━━━━━━━━\u001b[0m\u001b[37m\u001b[0m \u001b[1m0s\u001b[0m 70ms/step - loss: 0.1015 - sparse_categorical_accuracy: 0.9744 - val_loss: 1.5261 - val_sparse_categorical_accuracy: 0.7308\n",
            "Epoch 82/100\n",
            "\u001b[1m2/2\u001b[0m \u001b[32m━━━━━━━━━━━━━━━━━━━━\u001b[0m\u001b[37m\u001b[0m \u001b[1m0s\u001b[0m 57ms/step - loss: 0.1006 - sparse_categorical_accuracy: 0.9744 - val_loss: 1.5191 - val_sparse_categorical_accuracy: 0.7365\n",
            "Epoch 83/100\n",
            "\u001b[1m2/2\u001b[0m \u001b[32m━━━━━━━━━━━━━━━━━━━━\u001b[0m\u001b[37m\u001b[0m \u001b[1m0s\u001b[0m 54ms/step - loss: 0.0991 - sparse_categorical_accuracy: 0.9739 - val_loss: 1.5263 - val_sparse_categorical_accuracy: 0.7365\n",
            "Epoch 84/100\n",
            "\u001b[1m2/2\u001b[0m \u001b[32m━━━━━━━━━━━━━━━━━━━━\u001b[0m\u001b[37m\u001b[0m \u001b[1m0s\u001b[0m 59ms/step - loss: 0.0991 - sparse_categorical_accuracy: 0.9743 - val_loss: 1.5381 - val_sparse_categorical_accuracy: 0.7269\n",
            "Epoch 85/100\n",
            "\u001b[1m2/2\u001b[0m \u001b[32m━━━━━━━━━━━━━━━━━━━━\u001b[0m\u001b[37m\u001b[0m \u001b[1m0s\u001b[0m 59ms/step - loss: 0.0990 - sparse_categorical_accuracy: 0.9745 - val_loss: 1.5364 - val_sparse_categorical_accuracy: 0.7288\n",
            "Epoch 86/100\n",
            "\u001b[1m2/2\u001b[0m \u001b[32m━━━━━━━━━━━━━━━━━━━━\u001b[0m\u001b[37m\u001b[0m \u001b[1m0s\u001b[0m 61ms/step - loss: 0.0966 - sparse_categorical_accuracy: 0.9754 - val_loss: 1.5299 - val_sparse_categorical_accuracy: 0.7327\n",
            "Epoch 87/100\n",
            "\u001b[1m2/2\u001b[0m \u001b[32m━━━━━━━━━━━━━━━━━━━━\u001b[0m\u001b[37m\u001b[0m \u001b[1m0s\u001b[0m 58ms/step - loss: 0.0986 - sparse_categorical_accuracy: 0.9745 - val_loss: 1.5311 - val_sparse_categorical_accuracy: 0.7346\n",
            "Epoch 88/100\n",
            "\u001b[1m2/2\u001b[0m \u001b[32m━━━━━━━━━━━━━━━━━━━━\u001b[0m\u001b[37m\u001b[0m \u001b[1m0s\u001b[0m 59ms/step - loss: 0.0965 - sparse_categorical_accuracy: 0.9753 - val_loss: 1.5410 - val_sparse_categorical_accuracy: 0.7327\n",
            "Epoch 89/100\n",
            "\u001b[1m2/2\u001b[0m \u001b[32m━━━━━━━━━━━━━━━━━━━━\u001b[0m\u001b[37m\u001b[0m \u001b[1m0s\u001b[0m 61ms/step - loss: 0.0965 - sparse_categorical_accuracy: 0.9738 - val_loss: 1.5507 - val_sparse_categorical_accuracy: 0.7231\n",
            "Epoch 90/100\n",
            "\u001b[1m2/2\u001b[0m \u001b[32m━━━━━━━━━━━━━━━━━━━━\u001b[0m\u001b[37m\u001b[0m \u001b[1m0s\u001b[0m 57ms/step - loss: 0.0949 - sparse_categorical_accuracy: 0.9751 - val_loss: 1.5412 - val_sparse_categorical_accuracy: 0.7365\n",
            "Epoch 91/100\n",
            "\u001b[1m2/2\u001b[0m \u001b[32m━━━━━━━━━━━━━━━━━━━━\u001b[0m\u001b[37m\u001b[0m \u001b[1m0s\u001b[0m 59ms/step - loss: 0.0938 - sparse_categorical_accuracy: 0.9755 - val_loss: 1.5360 - val_sparse_categorical_accuracy: 0.7404\n",
            "Epoch 92/100\n",
            "\u001b[1m2/2\u001b[0m \u001b[32m━━━━━━━━━━━━━━━━━━━━\u001b[0m\u001b[37m\u001b[0m \u001b[1m0s\u001b[0m 58ms/step - loss: 0.0959 - sparse_categorical_accuracy: 0.9743 - val_loss: 1.5453 - val_sparse_categorical_accuracy: 0.7308\n",
            "Epoch 93/100\n",
            "\u001b[1m2/2\u001b[0m \u001b[32m━━━━━━━━━━━━━━━━━━━━\u001b[0m\u001b[37m\u001b[0m \u001b[1m0s\u001b[0m 61ms/step - loss: 0.0946 - sparse_categorical_accuracy: 0.9749 - val_loss: 1.5596 - val_sparse_categorical_accuracy: 0.7212\n",
            "Epoch 94/100\n",
            "\u001b[1m2/2\u001b[0m \u001b[32m━━━━━━━━━━━━━━━━━━━━\u001b[0m\u001b[37m\u001b[0m \u001b[1m0s\u001b[0m 68ms/step - loss: 0.0931 - sparse_categorical_accuracy: 0.9753 - val_loss: 1.5558 - val_sparse_categorical_accuracy: 0.7288\n",
            "Epoch 95/100\n",
            "\u001b[1m2/2\u001b[0m \u001b[32m━━━━━━━━━━━━━━━━━━━━\u001b[0m\u001b[37m\u001b[0m \u001b[1m0s\u001b[0m 64ms/step - loss: 0.0899 - sparse_categorical_accuracy: 0.9758 - val_loss: 1.5434 - val_sparse_categorical_accuracy: 0.7365\n",
            "Epoch 96/100\n",
            "\u001b[1m2/2\u001b[0m \u001b[32m━━━━━━━━━━━━━━━━━━━━\u001b[0m\u001b[37m\u001b[0m \u001b[1m0s\u001b[0m 52ms/step - loss: 0.0910 - sparse_categorical_accuracy: 0.9755 - val_loss: 1.5503 - val_sparse_categorical_accuracy: 0.7327\n",
            "Epoch 97/100\n",
            "\u001b[1m2/2\u001b[0m \u001b[32m━━━━━━━━━━━━━━━━━━━━\u001b[0m\u001b[37m\u001b[0m \u001b[1m0s\u001b[0m 79ms/step - loss: 0.0911 - sparse_categorical_accuracy: 0.9748 - val_loss: 1.5660 - val_sparse_categorical_accuracy: 0.7288\n",
            "Epoch 98/100\n",
            "\u001b[1m2/2\u001b[0m \u001b[32m━━━━━━━━━━━━━━━━━━━━\u001b[0m\u001b[37m\u001b[0m \u001b[1m0s\u001b[0m 74ms/step - loss: 0.0909 - sparse_categorical_accuracy: 0.9752 - val_loss: 1.5725 - val_sparse_categorical_accuracy: 0.7327\n",
            "Epoch 99/100\n",
            "\u001b[1m2/2\u001b[0m \u001b[32m━━━━━━━━━━━━━━━━━━━━\u001b[0m\u001b[37m\u001b[0m \u001b[1m0s\u001b[0m 76ms/step - loss: 0.0883 - sparse_categorical_accuracy: 0.9753 - val_loss: 1.5624 - val_sparse_categorical_accuracy: 0.7308\n",
            "Epoch 100/100\n",
            "\u001b[1m2/2\u001b[0m \u001b[32m━━━━━━━━━━━━━━━━━━━━\u001b[0m\u001b[37m\u001b[0m \u001b[1m0s\u001b[0m 36ms/step - loss: 0.0899 - sparse_categorical_accuracy: 0.9751 - val_loss: 1.5505 - val_sparse_categorical_accuracy: 0.7269\n"
          ]
        },
        {
          "output_type": "display_data",
          "data": {
            "text/plain": [
              "<Figure size 640x480 with 1 Axes>"
            ],
            "image/png": "[encoded data removed]"
          },
          "metadata": {}
        },
        {
          "output_type": "display_data",
          "data": {
            "text/plain": [
              "<Figure size 640x480 with 1 Axes>"
            ],
            "image/png": "[encoded data removed]"
          },
          "metadata": {}
        }
      ],
      "source": [
        "epochs = 100\n",
        "history = text_model.fit(ds_train, validation_data=ds_val, epochs=epochs, verbose=1)\n",
        "\n",
        "# Gráficas simples\n",
        "plt.figure()\n",
        "plt.plot(history.history['loss'], label='loss')\n",
        "plt.plot(history.history['val_loss'], label='val_loss')\n",
        "plt.xlabel('Epoch'); plt.ylabel('Loss'); plt.title('Pérdida')\n",
        "plt.legend(); plt.show()\n",
        "\n",
        "plt.figure()\n",
        "plt.plot(history.history['sparse_categorical_accuracy'], label='acc')\n",
        "plt.plot(history.history['val_sparse_categorical_accuracy'], label='val_acc')\n",
        "plt.xlabel('Epoch'); plt.ylabel('Accuracy'); plt.title('Exactitud')\n",
        "plt.legend(); plt.show()\n"
      ]
    },
    {
      "cell_type": "markdown",
      "source": [
        "# Generación de Textos:\n",
        "\n",
        "| Técnica     | Determinismo | Creatividad | Riesgo de incoherencia | Control sobre diversidad |\n",
        "| ----------- | ------------ | ----------- | ---------------------- | ------------------------ |\n",
        "| Greedy      | Alto         | Bajo        | Bajo                   | Ninguno                  |\n",
        "| Temperatura | Variable     | Variable    | Variable               | Moderado (por temp)      |\n",
        "| Top-k       | Bajo/Medio   | Medio       | Bajo/Medio             | Alto (por k)             |\n",
        "\n",
        "\n",
        "\n",
        "\n",
        "Regla práctica:\n",
        "\n",
        "1. Textos muy estructurados (código, instrucciones precisas) → Greedy o temperatura baja (0.6–0.8).\n",
        "2. Textos creativos (poesía, storytelling) → Temperatura media (0.8–1.0) + top-k (20–50).\n",
        "3. Exploración controlada → top-k + temperatura moderada para balancear calidad y variedad."
      ],
      "metadata": {
        "id": "XqQNZjriEqnF"
      },
      "id": "XqQNZjriEqnF"
    },
    {
      "cell_type": "markdown",
      "id": "289eda31",
      "metadata": {
        "id": "289eda31"
      },
      "source": [
        "\n",
        "## 6) Generación **greedy**\n",
        "- Siempre elige el carácter con probabilidad más alta (coherente pero repetitivo).\n",
        "\n",
        "(greedy decoding) es una estrategia de generación de texto en la que, en cada paso, el modelo elige siempre el carácter con la probabilidad más alta (el logit más grande), sin explorar otras opciones.\n"
      ]
    },
    {
      "cell_type": "code",
      "execution_count": null,
      "id": "c032779f",
      "metadata": {
        "colab": {
          "base_uri": "https://localhost:8080/"
        },
        "id": "c032779f",
        "outputId": "8d6b30b0-df7a-4211-a885-e4adf254194a"
      },
      "outputs": [
        {
          "output_type": "stream",
          "name": "stdout",
          "text": [
            "Había una etra por letra. A veces repetía, a veces sorprendía. La temperatura en el muestreo controla la ltra letra por letra. A veces repetía, a veces sorprendía. La temperatura en el muestreo controla la ltra\n"
          ]
        }
      ],
      "source": [
        "\n",
        "seed = \"Había una \"\n",
        "max_new = 200\n",
        "\n",
        "ids = [stoi.get(c, 0) for c in seed]   # convertimos semilla a ids\n",
        "\n",
        "for _ in range(max_new):\n",
        "    if len(ids) >= seq_len:\n",
        "        window = ids[-seq_len:]\n",
        "    else:\n",
        "        window = [0]*(seq_len - len(ids)) + ids\n",
        "    x = np.array(window, dtype=np.int32)[None, ...]       # (1, T)\n",
        "    logits = text_model(x, training=False).numpy()[0, -1] # (V,)\n",
        "    next_id = int(np.argmax(logits))                      # greedy\n",
        "    ids.append(next_id)\n",
        "\n",
        "generated_greedy = seed + \"\".join(itos[i] for i in ids[len(seed):])\n",
        "print(generated_greedy)\n"
      ]
    },
    {
      "cell_type": "markdown",
      "source": [
        "🔹 Ventajas:\n",
        "\n",
        "1. Rápido y sencillo: no requiere muestreo aleatorio ni parámetros extra.\n",
        "2. Suele producir salidas gramaticalmente coherentes si el modelo está bien entrenado.\n",
        "\n",
        "🔹 Desventajas:\n",
        "\n",
        "1. Poca diversidad: tiende a generar repeticiones y frases muy predecibles.\n",
        "2. Puede atascarse en bucles (ej. repetir “hola hola hola…”).\n",
        "3. No explora posibilidades menos probables que podrían llevar a una mejor frase más adelante."
      ],
      "metadata": {
        "id": "RITaHtLx_kKX"
      },
      "id": "RITaHtLx_kKX"
    },
    {
      "cell_type": "markdown",
      "id": "7629a7dc",
      "metadata": {
        "id": "7629a7dc"
      },
      "source": [
        "\n",
        "## 7) Generación con **temperatura**\n",
        "Baja (0.7) = conservador; Alta (1.2) = más creativo/arriesgado.\n",
        "\n",
        "temperature < 1 → afila la distribución (más determinista).\n",
        "\n",
        "temperature > 1 → aplasta la distribución (más aleatoria/creativa).\n"
      ]
    },
    {
      "cell_type": "code",
      "execution_count": null,
      "id": "718a57b8",
      "metadata": {
        "colab": {
          "base_uri": "https://localhost:8080/"
        },
        "id": "718a57b8",
        "outputId": "554006f3-333b-4751-d5c8-40efeaf1be1c"
      },
      "outputs": [
        {
          "output_type": "stream",
          "name": "stdout",
          "text": [
            "Una vez uetra por letra. A veces repetía, a veces sorprendía. La temperatura en el muestreo controla A letra oror eltemtura el mues letra. A veces repetía, a veces sorprendía. La temperatura en el muestreo co\n"
          ]
        }
      ],
      "source": [
        "\n",
        "seed = \"Una vez \"\n",
        "max_new = 200\n",
        "temperature = 0.8\n",
        "\n",
        "ids = [stoi.get(c, 0) for c in seed]\n",
        "\n",
        "for _ in range(max_new):\n",
        "    window = ids[-seq_len:] if len(ids) >= seq_len else [0]*(seq_len - len(ids)) + ids\n",
        "    x = np.array(window, dtype=np.int32)[None, ...]\n",
        "    logits = text_model(x, training=False).numpy()[0, -1]\n",
        "    logits = logits / max(1e-6, temperature)\n",
        "    probs = tf.nn.softmax(logits).numpy()\n",
        "    next_id = int(np.random.choice(len(probs), p=probs))   # muestreo ponderado\n",
        "    ids.append(next_id)\n",
        "\n",
        "generated_temp = seed + \"\".join(itos[i] for i in ids[len(seed):])\n",
        "print(generated_temp)\n"
      ]
    },
    {
      "cell_type": "markdown",
      "id": "7deca887",
      "metadata": {
        "id": "7deca887"
      },
      "source": [
        "\n",
        "## 8) Generación **top-k**\n",
        "- Limita la elección a las `k` mejores opciones para evitar colas de probabilidad muy pequeñas.\n"
      ]
    },
    {
      "cell_type": "code",
      "execution_count": null,
      "id": "17735d86",
      "metadata": {
        "colab": {
          "base_uri": "https://localhost:8080/"
        },
        "id": "17735d86",
        "outputId": "cabd0a00-1bbb-4e5e-cbdc-f5df0a068f23"
      },
      "outputs": [
        {
          "output_type": "stream",
          "name": "stdout",
          "text": [
            "Érase uura cets rpreldía. La temperatra e mues letría. A veces repetía, a veces sorprendía. La temperatura en el muestreo controla latra lerate atrores letra. A veces repetía, a veces sorprendía. La tempera\n"
          ]
        }
      ],
      "source": [
        "\n",
        "seed = \"Érase \"\n",
        "max_new = 200\n",
        "k = 5\n",
        "\n",
        "ids = [stoi.get(c, 0) for c in seed]\n",
        "\n",
        "for _ in range(max_new):\n",
        "    window = ids[-seq_len:] if len(ids) >= seq_len else [0]*(seq_len - len(ids)) + ids\n",
        "    x = np.array(window, dtype=np.int32)[None, ...]\n",
        "    logits = text_model(x, training=False).numpy()[0, -1]\n",
        "\n",
        "    top_idx = np.argpartition(logits, -k)[-k:]\n",
        "    top_logits = logits[top_idx]\n",
        "    probs = tf.nn.softmax(top_logits).numpy()\n",
        "    pick_rel = int(np.random.choice(len(top_idx), p=probs))\n",
        "    next_id = int(top_idx[pick_rel])\n",
        "\n",
        "    ids.append(next_id)\n",
        "\n",
        "generated_topk = seed + \"\".join(itos[i] for i in ids[len(seed):])\n",
        "print(generated_topk)\n"
      ]
    }
  ],
  "metadata": {
    "colab": {
      "provenance": [],
      "include_colab_link": true
    },
    "language_info": {
      "name": "python"
    },
    "kernelspec": {
      "name": "python3",
      "display_name": "Python 3"
    }
  },
  "nbformat": 4,
  "nbformat_minor": 5
}